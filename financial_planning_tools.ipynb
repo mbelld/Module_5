{
 "cells": [
  {
   "cell_type": "markdown",
   "metadata": {},
   "source": [
    "# Financial Planning with APIs and Simulations\n",
    "\n",
    "In this Challenge, you’ll create two financial analysis tools by using a single Jupyter notebook:\n",
    "\n",
    "Part 1: A financial planner for emergencies. The members will be able to use this tool to visualize their current savings. The members can then determine if they have enough reserves for an emergency fund.\n",
    "\n",
    "Part 2: A financial planner for retirement. This tool will forecast the performance of their retirement portfolio in 30 years. To do this, the tool will make an Alpaca API call via the Alpaca SDK to get historical price data for use in Monte Carlo simulations.\n",
    "\n",
    "You’ll use the information from the Monte Carlo simulation to answer questions about the portfolio in your Jupyter notebook.\n",
    "\n"
   ]
  },
  {
   "cell_type": "code",
   "execution_count": 1,
   "metadata": {},
   "outputs": [],
   "source": [
    "# Import the required libraries and dependencies\n",
    "import os\n",
    "import requests\n",
    "import json\n",
    "import pandas as pd\n",
    "from dotenv import load_dotenv\n",
    "import alpaca_trade_api as tradeapi\n",
    "from MCForecastTools import MCSimulation\n",
    "\n",
    "%matplotlib inline"
   ]
  },
  {
   "cell_type": "code",
   "execution_count": 2,
   "metadata": {},
   "outputs": [
    {
     "data": {
      "text/plain": [
       "True"
      ]
     },
     "execution_count": 2,
     "metadata": {},
     "output_type": "execute_result"
    }
   ],
   "source": [
    "# Load the environment variables from the .env file\n",
    "#by calling the load_dotenv function\n",
    "load_dotenv(\"../Starter_Code_4/SAMPLE.env\")"
   ]
  },
  {
   "cell_type": "markdown",
   "metadata": {},
   "source": [
    "## Part 1: Create a Financial Planner for Emergencies"
   ]
  },
  {
   "cell_type": "markdown",
   "metadata": {},
   "source": [
    "### Evaluate the Cryptocurrency Wallet by Using the Requests Library\n",
    "\n",
    "In this section, you’ll determine the current value of a member’s cryptocurrency wallet. You’ll collect the current prices for the Bitcoin and Ethereum cryptocurrencies by using the Python Requests library. For the prototype, you’ll assume that the member holds the 1.2 Bitcoins (BTC) and 5.3 Ethereum coins (ETH). To do all this, complete the following steps:\n",
    "\n",
    "1. Create a variable named `monthly_income`, and set its value to `12000`.\n",
    "\n",
    "2. Use the Requests library to get the current price (in US dollars) of Bitcoin (BTC) and Ethereum (ETH) by using the API endpoints that the starter code supplies.\n",
    "\n",
    "3. Navigate the JSON response object to access the current price of each coin, and store each in a variable.\n",
    "\n",
    "    > **Hint** Note the specific identifier for each cryptocurrency in the API JSON response. The Bitcoin identifier is `1`, and the Ethereum identifier is `1027`.\n",
    "\n",
    "4. Calculate the value, in US dollars, of the current amount of each cryptocurrency and of the entire cryptocurrency wallet.\n",
    "\n"
   ]
  },
  {
   "cell_type": "code",
   "execution_count": 3,
   "metadata": {},
   "outputs": [],
   "source": [
    "# The current number of coins for each cryptocurrency asset held in the portfolio.\n",
    "btc_coins = 1.2\n",
    "eth_coins = 5.3"
   ]
  },
  {
   "cell_type": "markdown",
   "metadata": {},
   "source": [
    "#### Step 1: Create a variable named `monthly_income`, and set its value to `12000`."
   ]
  },
  {
   "cell_type": "code",
   "execution_count": 4,
   "metadata": {},
   "outputs": [],
   "source": [
    "# The monthly amount for the member's household income\n",
    "monthly_income = 12000\n"
   ]
  },
  {
   "cell_type": "markdown",
   "metadata": {},
   "source": [
    "#### Review the endpoint URLs for the API calls to Free Crypto API in order to get the current pricing information for both BTC and ETH."
   ]
  },
  {
   "cell_type": "code",
   "execution_count": 5,
   "metadata": {},
   "outputs": [],
   "source": [
    "# The Free Crypto API Call endpoint URLs for the held cryptocurrency assets\n",
    "btc_url = \"https://api.alternative.me/v2/ticker/Bitcoin/?convert=USD\"\n",
    "eth_url = \"https://api.alternative.me/v2/ticker/Ethereum/?convert=USD\""
   ]
  },
  {
   "cell_type": "markdown",
   "metadata": {},
   "source": [
    "#### Step 2. Use the Requests library to get the current price (in US dollars) of Bitcoin (BTC) and Ethereum (ETH) by using the API endpoints that the starter code supplied."
   ]
  },
  {
   "cell_type": "code",
   "execution_count": 6,
   "metadata": {},
   "outputs": [
    {
     "name": "stdout",
     "output_type": "stream",
     "text": [
      "{\n",
      "    \"data\": {\n",
      "        \"1\": {\n",
      "            \"circulating_supply\": 19376537,\n",
      "            \"id\": 1,\n",
      "            \"last_updated\": 1684376973,\n",
      "            \"max_supply\": 21000000,\n",
      "            \"name\": \"Bitcoin\",\n",
      "            \"quotes\": {\n",
      "                \"USD\": {\n",
      "                    \"market_cap\": 528941453288,\n",
      "                    \"percent_change_1h\": -0.334640657042366,\n",
      "                    \"percent_change_24h\": 0.560117676054771,\n",
      "                    \"percent_change_7d\": -1.03618020469524,\n",
      "                    \"percentage_change_1h\": -0.334640657042366,\n",
      "                    \"percentage_change_24h\": 0.560117676054771,\n",
      "                    \"percentage_change_7d\": -1.03618020469524,\n",
      "                    \"price\": 27304.0,\n",
      "                    \"volume_24h\": 11111688874\n",
      "                }\n",
      "            },\n",
      "            \"rank\": 1,\n",
      "            \"symbol\": \"BTC\",\n",
      "            \"total_supply\": 19376537,\n",
      "            \"website_slug\": \"bitcoin\"\n",
      "        }\n",
      "    },\n",
      "    \"metadata\": {\n",
      "        \"error\": null,\n",
      "        \"num_cryptocurrencies\": 3119,\n",
      "        \"timestamp\": 1684376973\n",
      "    }\n",
      "}\n"
     ]
    }
   ],
   "source": [
    "# Using the Python requests library, make an API call to access the current price of BTC\n",
    "btc_response = requests.get(btc_url).json()\n",
    "\n",
    "# Use the json.dumps function to review the response data from the API call\n",
    "# Use the indent and sort_keys parameters to make the response object readable\n",
    "print(json.dumps(btc_response, indent=4, sort_keys=True))"
   ]
  },
  {
   "cell_type": "code",
   "execution_count": 7,
   "metadata": {},
   "outputs": [
    {
     "name": "stdout",
     "output_type": "stream",
     "text": [
      "{\n",
      "    \"data\": {\n",
      "        \"1027\": {\n",
      "            \"circulating_supply\": 120279330,\n",
      "            \"id\": 1027,\n",
      "            \"last_updated\": 1684376976,\n",
      "            \"max_supply\": 120279330,\n",
      "            \"name\": \"Ethereum\",\n",
      "            \"quotes\": {\n",
      "                \"USD\": {\n",
      "                    \"market_cap\": 218828998202,\n",
      "                    \"percent_change_1h\": -0.221104589765413,\n",
      "                    \"percent_change_24h\": -0.488833513020984,\n",
      "                    \"percent_change_7d\": -0.874294975431106,\n",
      "                    \"percentage_change_1h\": -0.221104589765413,\n",
      "                    \"percentage_change_24h\": -0.488833513020984,\n",
      "                    \"percentage_change_7d\": -0.874294975431106,\n",
      "                    \"price\": 1820.61,\n",
      "                    \"volume_24h\": 6624313862\n",
      "                }\n",
      "            },\n",
      "            \"rank\": 2,\n",
      "            \"symbol\": \"ETH\",\n",
      "            \"total_supply\": 120279330,\n",
      "            \"website_slug\": \"ethereum\"\n",
      "        }\n",
      "    },\n",
      "    \"metadata\": {\n",
      "        \"error\": null,\n",
      "        \"num_cryptocurrencies\": 3119,\n",
      "        \"timestamp\": 1684376976\n",
      "    }\n",
      "}\n"
     ]
    }
   ],
   "source": [
    "# Using the Python requests library, make an API call to access the current price ETH\n",
    "eth_response = btc_call = requests.get(eth_url).json()\n",
    "\n",
    "# Use the json.dumps function to review the response data from the API call\n",
    "# Use the indent and sort_keys parameters to make the response object readable\n",
    "print(json.dumps(eth_response, indent=4, sort_keys=True))"
   ]
  },
  {
   "cell_type": "markdown",
   "metadata": {},
   "source": [
    "#### Step 3: Navigate the JSON response object to access the current price of each coin, and store each in a variable."
   ]
  },
  {
   "cell_type": "code",
   "execution_count": 8,
   "metadata": {},
   "outputs": [
    {
     "data": {
      "text/plain": [
       "27304.0"
      ]
     },
     "execution_count": 8,
     "metadata": {},
     "output_type": "execute_result"
    }
   ],
   "source": [
    "# Navigate the BTC response object to access the current price of BTC\n",
    "btc_price = btc_response ['data']['1']['quotes']['USD']['price']\n",
    "\n",
    "# Print the current price of BTC\n",
    "btc_price\n"
   ]
  },
  {
   "cell_type": "code",
   "execution_count": 9,
   "metadata": {},
   "outputs": [
    {
     "data": {
      "text/plain": [
       "1820.61"
      ]
     },
     "execution_count": 9,
     "metadata": {},
     "output_type": "execute_result"
    }
   ],
   "source": [
    "# Navigate the BTC response object to access the current price of ETH\n",
    "eth_price = eth_response ['data']['1027']['quotes']['USD']['price']\n",
    "\n",
    "# Print the current price of ETH\n",
    "eth_price\n"
   ]
  },
  {
   "cell_type": "markdown",
   "metadata": {},
   "source": [
    "### Step 4: Calculate the value, in US dollars, of the current amount of each cryptocurrency and of the entire cryptocurrency wallet."
   ]
  },
  {
   "cell_type": "code",
   "execution_count": 10,
   "metadata": {},
   "outputs": [
    {
     "data": {
      "text/plain": [
       "32764.8"
      ]
     },
     "execution_count": 10,
     "metadata": {},
     "output_type": "execute_result"
    }
   ],
   "source": [
    "# Compute the current value of the BTC holding \n",
    "btc_value = btc_price*btc_coins\n",
    "\n",
    "# Print current value of your holding in BTC\n",
    "btc_value\n"
   ]
  },
  {
   "cell_type": "code",
   "execution_count": 11,
   "metadata": {},
   "outputs": [
    {
     "data": {
      "text/plain": [
       "9649.232999999998"
      ]
     },
     "execution_count": 11,
     "metadata": {},
     "output_type": "execute_result"
    }
   ],
   "source": [
    "# Compute the current value of the ETH holding \n",
    "eth_value = eth_price * eth_coins\n",
    "\n",
    "# Print current value of your holding in ETH\n",
    "eth_value\n"
   ]
  },
  {
   "cell_type": "code",
   "execution_count": 12,
   "metadata": {},
   "outputs": [
    {
     "data": {
      "text/plain": [
       "42414.032999999996"
      ]
     },
     "execution_count": 12,
     "metadata": {},
     "output_type": "execute_result"
    }
   ],
   "source": [
    "# Compute the total value of the cryptocurrency wallet\n",
    "# Add the value of the BTC holding to the value of the ETH holding\n",
    "total_crypto_wallet = btc_value + eth_value\n",
    "\n",
    "# Print current cryptocurrency wallet balance\n",
    "total_crypto_wallet\n"
   ]
  },
  {
   "cell_type": "markdown",
   "metadata": {},
   "source": [
    "### Evaluate the Stock and Bond Holdings by Using the Alpaca SDK\n",
    "\n",
    "In this section, you’ll determine the current value of a member’s stock and bond holdings. You’ll make an API call to Alpaca via the Alpaca SDK to get the current closing prices of the SPDR S&P 500 ETF Trust (ticker: SPY) and of the iShares Core US Aggregate Bond ETF (ticker: AGG). For the prototype, assume that the member holds 110 shares of SPY, which represents the stock portion of their portfolio, and 200 shares of AGG, which represents the bond portion. To do all this, complete the following steps:\n",
    "\n",
    "1. In the `Starter_Code` folder, create an environment file (`.env`) to store the values of your Alpaca API key and Alpaca secret key.\n",
    "\n",
    "2. Set the variables for the Alpaca API and secret keys. Using the Alpaca SDK, create the Alpaca `tradeapi.REST` object. In this object, include the parameters for the Alpaca API key, the secret key, and the version number.\n",
    "\n",
    "3. Set the following parameters for the Alpaca API call:\n",
    "\n",
    "    - `tickers`: Use the tickers for the member’s stock and bond holdings.\n",
    "\n",
    "    - `timeframe`: Use a time frame of one day.\n",
    "\n",
    "    - `start_date` and `end_date`: Use the same date for these parameters, and format them with the date of the previous weekday (or `2020-08-07`). This is because you want the one closing price for the most-recent trading day.\n",
    "\n",
    "4. Get the current closing prices for `SPY` and `AGG` by using the Alpaca `get_bars` function. Format the response as a Pandas DataFrame by including the `df` property at the end of the `get_bars` function.\n",
    "\n",
    "5. Navigating the Alpaca response DataFrame, select the `SPY` and `AGG` closing prices, and store them as variables.\n",
    "\n",
    "6. Calculate the value, in US dollars, of the current amount of shares in each of the stock and bond portions of the portfolio, and print the results.\n"
   ]
  },
  {
   "cell_type": "markdown",
   "metadata": {},
   "source": [
    "#### Review the total number of shares held in both (SPY) and (AGG)."
   ]
  },
  {
   "cell_type": "code",
   "execution_count": 13,
   "metadata": {},
   "outputs": [],
   "source": [
    "# Current amount of shares held in both the stock (SPY) and bond (AGG) portion of the portfolio.\n",
    "spy_shares = 110\n",
    "agg_shares = 200\n"
   ]
  },
  {
   "cell_type": "markdown",
   "metadata": {},
   "source": [
    "#### Step 1: In the `Starter_Code` folder, create an environment file (`.env`) to store the values of your Alpaca API key and Alpaca secret key."
   ]
  },
  {
   "cell_type": "markdown",
   "metadata": {},
   "source": [
    "#### Step 2: Set the variables for the Alpaca API and secret keys. Using the Alpaca SDK, create the Alpaca `tradeapi.REST` object. In this object, include the parameters for the Alpaca API key, the secret key, and the version number."
   ]
  },
  {
   "cell_type": "code",
   "execution_count": 14,
   "metadata": {},
   "outputs": [
    {
     "data": {
      "text/plain": [
       "str"
      ]
     },
     "metadata": {},
     "output_type": "display_data"
    },
    {
     "data": {
      "text/plain": [
       "str"
      ]
     },
     "metadata": {},
     "output_type": "display_data"
    }
   ],
   "source": [
    "# Set the variables for the Alpaca API and secret keys\n",
    "alpaca_api_key = os.getenv(\"ALPACA_API_KEY\")\n",
    "alpaca_secret_key = os.getenv(\"ALPACA_SECRET_KEY\")\n",
    "\n",
    "\n",
    "\n",
    "# Create the Alpaca tradeapi.REST object\n",
    "alpaca = tradeapi.REST(\n",
    "    alpaca_api_key,\n",
    "    alpaca_secret_key,\n",
    "    api_version=\"v2\")\n",
    "\n",
    "\n",
    "display(type(alpaca_api_key))\n",
    "display(type(alpaca_secret_key))"
   ]
  },
  {
   "cell_type": "markdown",
   "metadata": {},
   "source": [
    "#### Step 3: Set the following parameters for the Alpaca API call:\n",
    "\n",
    "- `tickers`: Use the tickers for the member’s stock and bond holdings.\n",
    "\n",
    "- `timeframe`: Use a time frame of one day.\n",
    "\n",
    "- `start_date` and `end_date`: Use the same date for these parameters, and format them with the date of the previous weekday (or `2020-08-07`). This is because you want the one closing price for the most-recent trading day.\n"
   ]
  },
  {
   "cell_type": "code",
   "execution_count": 15,
   "metadata": {},
   "outputs": [],
   "source": [
    "# Set the tickers for both the bond and stock portion of the portfolio\n",
    "tickers = [\"SPY\", \"AGG\"]\n",
    "\n",
    "# Set timeframe to 1Day\n",
    "timeframe = \"1Day\"\n",
    "\n",
    "# Format current date as ISO format\n",
    "# Set both the start and end date at the date of your prior weekday \n",
    "# This will give you the closing price of the previous trading day\n",
    "# Alternatively you can use a start and end date of 2020-08-07\n",
    "start_date = pd.Timestamp('2023-05-10', tz=\"America/New_York\").isoformat()\n",
    "end_date = pd.Timestamp(\"2023-05-10\", tz=\"America/New_York\").isoformat()\n",
    "\n"
   ]
  },
  {
   "cell_type": "markdown",
   "metadata": {},
   "source": [
    "#### Step 4: Get the current closing prices for `SPY` and `AGG` by using the Alpaca `get_bars` function. Format the response as a Pandas DataFrame by including the `df` property at the end of the `get_bars` function."
   ]
  },
  {
   "cell_type": "code",
   "execution_count": 16,
   "metadata": {},
   "outputs": [
    {
     "data": {
      "text/html": [
       "<div>\n",
       "<style scoped>\n",
       "    .dataframe tbody tr th:only-of-type {\n",
       "        vertical-align: middle;\n",
       "    }\n",
       "\n",
       "    .dataframe tbody tr th {\n",
       "        vertical-align: top;\n",
       "    }\n",
       "\n",
       "    .dataframe thead tr th {\n",
       "        text-align: left;\n",
       "    }\n",
       "\n",
       "    .dataframe thead tr:last-of-type th {\n",
       "        text-align: right;\n",
       "    }\n",
       "</style>\n",
       "<table border=\"1\" class=\"dataframe\">\n",
       "  <thead>\n",
       "    <tr>\n",
       "      <th></th>\n",
       "      <th colspan=\"7\" halign=\"left\">AGG</th>\n",
       "      <th colspan=\"7\" halign=\"left\">SPY</th>\n",
       "    </tr>\n",
       "    <tr>\n",
       "      <th></th>\n",
       "      <th>open</th>\n",
       "      <th>high</th>\n",
       "      <th>low</th>\n",
       "      <th>close</th>\n",
       "      <th>volume</th>\n",
       "      <th>trade_count</th>\n",
       "      <th>vwap</th>\n",
       "      <th>open</th>\n",
       "      <th>high</th>\n",
       "      <th>low</th>\n",
       "      <th>close</th>\n",
       "      <th>volume</th>\n",
       "      <th>trade_count</th>\n",
       "      <th>vwap</th>\n",
       "    </tr>\n",
       "    <tr>\n",
       "      <th>timestamp</th>\n",
       "      <th></th>\n",
       "      <th></th>\n",
       "      <th></th>\n",
       "      <th></th>\n",
       "      <th></th>\n",
       "      <th></th>\n",
       "      <th></th>\n",
       "      <th></th>\n",
       "      <th></th>\n",
       "      <th></th>\n",
       "      <th></th>\n",
       "      <th></th>\n",
       "      <th></th>\n",
       "      <th></th>\n",
       "    </tr>\n",
       "  </thead>\n",
       "  <tbody>\n",
       "    <tr>\n",
       "      <th>2023-05-10 04:00:00+00:00</th>\n",
       "      <td>99.43</td>\n",
       "      <td>99.68</td>\n",
       "      <td>99.39</td>\n",
       "      <td>99.65</td>\n",
       "      <td>4803044</td>\n",
       "      <td>18737</td>\n",
       "      <td>99.571949</td>\n",
       "      <td>413.88</td>\n",
       "      <td>414.535</td>\n",
       "      <td>408.87</td>\n",
       "      <td>412.85</td>\n",
       "      <td>96156049</td>\n",
       "      <td>691870</td>\n",
       "      <td>411.964838</td>\n",
       "    </tr>\n",
       "  </tbody>\n",
       "</table>\n",
       "</div>"
      ],
      "text/plain": [
       "                             AGG                                            \\\n",
       "                            open   high    low  close   volume trade_count   \n",
       "timestamp                                                                    \n",
       "2023-05-10 04:00:00+00:00  99.43  99.68  99.39  99.65  4803044       18737   \n",
       "\n",
       "                                         SPY                           \\\n",
       "                                vwap    open     high     low   close   \n",
       "timestamp                                                               \n",
       "2023-05-10 04:00:00+00:00  99.571949  413.88  414.535  408.87  412.85   \n",
       "\n",
       "                                                             \n",
       "                             volume trade_count        vwap  \n",
       "timestamp                                                    \n",
       "2023-05-10 04:00:00+00:00  96156049      691870  411.964838  "
      ]
     },
     "execution_count": 16,
     "metadata": {},
     "output_type": "execute_result"
    }
   ],
   "source": [
    "# Use the Alpaca get_bars function to get current closing prices the portfolio\n",
    "# Be sure to set the `df` property after the function to format the response object as a DataFrame\n",
    "closing_df = alpaca.get_bars(\n",
    "    tickers,\n",
    "    timeframe,\n",
    "    start=start_date,\n",
    "    end=end_date\n",
    ").df\n",
    "\n",
    "# Reorganize the DataFrame\n",
    "# Separate ticker data\n",
    "AGG = closing_df[closing_df['symbol']=='AGG'].drop('symbol', axis=1)\n",
    "SPY = closing_df[closing_df['symbol']=='SPY'].drop('symbol', axis=1)\n",
    "\n",
    "# Concatenate the ticker DataFrames\n",
    "closing_df = pd.concat([AGG, SPY], axis=1, keys=['AGG', 'SPY'])\n",
    "\n",
    "# Review the first 5 rows of the Alpaca DataFrame\n",
    "closing_df.head()\n"
   ]
  },
  {
   "cell_type": "markdown",
   "metadata": {},
   "source": [
    "#### Step 5: Navigating the Alpaca response DataFrame, select the `SPY` and `AGG` closing prices, and store them as variables."
   ]
  },
  {
   "cell_type": "code",
   "execution_count": 17,
   "metadata": {},
   "outputs": [
    {
     "data": {
      "text/plain": [
       "99.65"
      ]
     },
     "execution_count": 17,
     "metadata": {},
     "output_type": "execute_result"
    }
   ],
   "source": [
    "# Access the closing price for AGG from the Alpaca DataFrame\n",
    "# Converting the value to a floating point number\n",
    "agg_close_price = float(closing_df['AGG']['close'])\n",
    "\n",
    "# Print the AGG closing price\n",
    "agg_close_price\n"
   ]
  },
  {
   "cell_type": "code",
   "execution_count": 18,
   "metadata": {},
   "outputs": [
    {
     "data": {
      "text/plain": [
       "412.85"
      ]
     },
     "execution_count": 18,
     "metadata": {},
     "output_type": "execute_result"
    }
   ],
   "source": [
    "# Access the closing price for SPY from the Alpaca DataFrame\n",
    "# Converting the value to a floating point number\n",
    "spy_close_price = float(closing_df['SPY']['close'])\n",
    "\n",
    "# Print the SPY closing price\n",
    "spy_close_price \n"
   ]
  },
  {
   "cell_type": "markdown",
   "metadata": {},
   "source": [
    "#### Step 6: Calculate the value, in US dollars, of the current amount of shares in each of the stock and bond portions of the portfolio, and print the results."
   ]
  },
  {
   "cell_type": "code",
   "execution_count": 19,
   "metadata": {},
   "outputs": [
    {
     "data": {
      "text/plain": [
       "19930.0"
      ]
     },
     "execution_count": 19,
     "metadata": {},
     "output_type": "execute_result"
    }
   ],
   "source": [
    "# Calculate the current value of the bond portion of the portfolio\n",
    "agg_value = agg_close_price * agg_shares\n",
    "\n",
    "# Print the current value of the bond portfolio\n",
    "agg_value\n"
   ]
  },
  {
   "cell_type": "code",
   "execution_count": 20,
   "metadata": {},
   "outputs": [
    {
     "data": {
      "text/plain": [
       "45413.5"
      ]
     },
     "execution_count": 20,
     "metadata": {},
     "output_type": "execute_result"
    }
   ],
   "source": [
    "# Calculate the current value of the stock portion of the portfolio\n",
    "spy_value = spy_close_price * spy_shares\n",
    "\n",
    "# Print the current value of the stock portfolio\n",
    "spy_value\n"
   ]
  },
  {
   "cell_type": "code",
   "execution_count": 21,
   "metadata": {},
   "outputs": [
    {
     "data": {
      "text/plain": [
       "65343.5"
      ]
     },
     "execution_count": 21,
     "metadata": {},
     "output_type": "execute_result"
    }
   ],
   "source": [
    "# Calculate the total value of the stock and bond portion of the portfolio\n",
    "total_stocks_bonds = agg_value + spy_value\n",
    "\n",
    "# Print the current balance of the stock and bond portion of the portfolio\n",
    "total_stocks_bonds\n"
   ]
  },
  {
   "cell_type": "code",
   "execution_count": 22,
   "metadata": {},
   "outputs": [
    {
     "data": {
      "text/plain": [
       "107757.533"
      ]
     },
     "execution_count": 22,
     "metadata": {},
     "output_type": "execute_result"
    }
   ],
   "source": [
    "# Calculate the total value of the member's entire savings portfolio\n",
    "# Add the value of the cryptocurrency walled to the value of the total stocks and bonds\n",
    "total_portfolio = total_stocks_bonds + total_crypto_wallet\n",
    "\n",
    "# Print current cryptocurrency wallet balance\n",
    "total_portfolio\n"
   ]
  },
  {
   "cell_type": "markdown",
   "metadata": {},
   "source": [
    "### Evaluate the Emergency Fund\n",
    "\n",
    "In this section, you’ll use the valuations for the cryptocurrency wallet and for the stock and bond portions of the portfolio to determine if the credit union member has enough savings to build an emergency fund into their financial plan. To do this, complete the following steps:\n",
    "\n",
    "1. Create a Python list named `savings_data` that has two elements. The first element contains the total value of the cryptocurrency wallet. The second element contains the total value of the stock and bond portions of the portfolio.\n",
    "\n",
    "2. Use the `savings_data` list to create a Pandas DataFrame named `savings_df`, and then display this DataFrame. The function to create the DataFrame should take the following three parameters:\n",
    "\n",
    "    - `savings_data`: Use the list that you just created.\n",
    "\n",
    "    - `columns`: Set this parameter equal to a Python list with a single value called `amount`.\n",
    "\n",
    "    - `index`: Set this parameter equal to a Python list with the values of `crypto` and `stock/bond`.\n",
    "\n",
    "3. Use the `savings_df` DataFrame to plot a pie chart that visualizes the composition of the member’s portfolio. The y-axis of the pie chart uses `amount`. Be sure to add a title.\n",
    "\n",
    "4. Using Python, determine if the current portfolio has enough to create an emergency fund as part of the member’s financial plan. Ideally, an emergency fund should equal to three times the member’s monthly income. To do this, implement the following steps:\n",
    "\n",
    "    1. Create a variable named `emergency_fund_value`, and set it equal to three times the value of the member’s `monthly_income` of $12000. (You set this earlier in Part 1).\n",
    "\n",
    "    2. Create a series of three if statements to determine if the member’s total portfolio is large enough to fund the emergency portfolio:\n",
    "\n",
    "        1. If the total portfolio value is greater than the emergency fund value, display a message congratulating the member for having enough money in this fund.\n",
    "\n",
    "        2. Else if the total portfolio value is equal to the emergency fund value, display a message congratulating the member on reaching this important financial goal.\n",
    "\n",
    "        3. Else the total portfolio is less than the emergency fund value, so display a message showing how many dollars away the member is from reaching the goal. (Subtract the total portfolio value from the emergency fund value.)\n"
   ]
  },
  {
   "cell_type": "markdown",
   "metadata": {},
   "source": [
    "#### Step 1: Create a Python list named `savings_data` that has two elements. The first element contains the total value of the cryptocurrency wallet. The second element contains the total value of the stock and bond portions of the portfolio."
   ]
  },
  {
   "cell_type": "code",
   "execution_count": 23,
   "metadata": {},
   "outputs": [
    {
     "data": {
      "text/plain": [
       "[42414.032999999996, 65343.5]"
      ]
     },
     "execution_count": 23,
     "metadata": {},
     "output_type": "execute_result"
    }
   ],
   "source": [
    "# Consolidate financial assets data into a Python list\n",
    "savings_data = [total_crypto_wallet, total_stocks_bonds]\n",
    "\n",
    "# Review the Python list savings_data\n",
    "savings_data\n",
    "    "
   ]
  },
  {
   "cell_type": "markdown",
   "metadata": {},
   "source": [
    "#### Step 2: Use the `savings_data` list to create a Pandas DataFrame named `savings_df`, and then display this DataFrame. The function to create the DataFrame should take the following three parameters:\n",
    "\n",
    "- `savings_data`: Use the list that you just created.\n",
    "\n",
    "- `columns`: Set this parameter equal to a Python list with a single value called `amount`.\n",
    "\n",
    "- `index`: Set this parameter equal to a Python list with the values of `crypto` and `stock/bond`.\n"
   ]
  },
  {
   "cell_type": "code",
   "execution_count": 24,
   "metadata": {},
   "outputs": [
    {
     "data": {
      "text/html": [
       "<div>\n",
       "<style scoped>\n",
       "    .dataframe tbody tr th:only-of-type {\n",
       "        vertical-align: middle;\n",
       "    }\n",
       "\n",
       "    .dataframe tbody tr th {\n",
       "        vertical-align: top;\n",
       "    }\n",
       "\n",
       "    .dataframe thead th {\n",
       "        text-align: right;\n",
       "    }\n",
       "</style>\n",
       "<table border=\"1\" class=\"dataframe\">\n",
       "  <thead>\n",
       "    <tr style=\"text-align: right;\">\n",
       "      <th></th>\n",
       "      <th>amount</th>\n",
       "    </tr>\n",
       "  </thead>\n",
       "  <tbody>\n",
       "    <tr>\n",
       "      <th>crypto</th>\n",
       "      <td>42414.033</td>\n",
       "    </tr>\n",
       "    <tr>\n",
       "      <th>stock/bond</th>\n",
       "      <td>65343.500</td>\n",
       "    </tr>\n",
       "  </tbody>\n",
       "</table>\n",
       "</div>"
      ],
      "text/plain": [
       "               amount\n",
       "crypto      42414.033\n",
       "stock/bond  65343.500"
      ]
     },
     "execution_count": 24,
     "metadata": {},
     "output_type": "execute_result"
    }
   ],
   "source": [
    "# Create a Pandas DataFrame called savings_df \n",
    "savings_df = pd.DataFrame(savings_data,\n",
    "                          columns = ['amount'],\n",
    "                          index = ['crypto', 'stock/bond'])\n",
    "\n",
    "# Display the savings_df DataFrame\n",
    "savings_df\n"
   ]
  },
  {
   "cell_type": "markdown",
   "metadata": {},
   "source": [
    "#### Step 3: Use the `savings_df` DataFrame to plot a pie chart that visualizes the composition of the member’s portfolio. The y-axis of the pie chart uses `amount`. Be sure to add a title."
   ]
  },
  {
   "cell_type": "code",
   "execution_count": 25,
   "metadata": {},
   "outputs": [
    {
     "data": {
      "text/plain": [
       "<AxesSubplot:title={'center':'Dummy Portfolio'}, ylabel='amount'>"
      ]
     },
     "execution_count": 25,
     "metadata": {},
     "output_type": "execute_result"
    },
    {
     "data": {
      "image/png": "[encoded data removed]",
      "text/plain": [
       "<Figure size 500x500 with 1 Axes>"
      ]
     },
     "metadata": {},
     "output_type": "display_data"
    }
   ],
   "source": [
    "# Plot the total value of the member's portfolio (crypto and stock/bond) in a pie chart\n",
    "savings_df.plot.pie(\n",
    "    y='amount',\n",
    "    figsize=(5,5),\n",
    "    title='Dummy Portfolio'\n",
    ")\n",
    "\n"
   ]
  },
  {
   "cell_type": "markdown",
   "metadata": {},
   "source": [
    "#### Step 4: Using Python, determine if the current portfolio has enough to create an emergency fund as part of the member’s financial plan. Ideally, an emergency fund should equal to three times the member’s monthly income. To do this, implement the following steps:\n",
    "\n",
    "Step 1. Create a variable named `emergency_fund_value`, and set it equal to three times the value of the member’s `monthly_income` of 12000. (You set this earlier in Part 1).\n",
    "\n",
    "Step 2. Create a series of three if statements to determine if the member’s total portfolio is large enough to fund the emergency portfolio:\n",
    "\n",
    "* If the total portfolio value is greater than the emergency fund value, display a message congratulating the member for having enough money in this fund.\n",
    "\n",
    "* Else if the total portfolio value is equal to the emergency fund value, display a message congratulating the member on reaching this important financial goal.\n",
    "\n",
    "* Else the total portfolio is less than the emergency fund value, so display a message showing how many dollars away the member is from reaching the goal. (Subtract the total portfolio value from the emergency fund value.)\n"
   ]
  },
  {
   "cell_type": "markdown",
   "metadata": {},
   "source": [
    "##### Step 4-1: Create a variable named `emergency_fund_value`, and set it equal to three times the value of the member’s `monthly_income` of 12000. (You set this earlier in Part 1)."
   ]
  },
  {
   "cell_type": "code",
   "execution_count": 26,
   "metadata": {},
   "outputs": [],
   "source": [
    "# Create a variable named emergency_fund_value\n",
    "emergency_fund_value = 3 * monthly_income\n"
   ]
  },
  {
   "cell_type": "markdown",
   "metadata": {},
   "source": [
    "##### Step 4-2: Create a series of three if statements to determine if the member’s total portfolio is large enough to fund the emergency portfolio:\n",
    "\n",
    "* If the total portfolio value is greater than the emergency fund value, display a message congratulating the member for having enough money in this fund.\n",
    "\n",
    "* Else if the total portfolio value is equal to the emergency fund value, display a message congratulating the member on reaching this important financial goal.\n",
    "\n",
    "* Else the total portfolio is less than the emergency fund value, so display a message showing how many dollars away the member is from reaching the goal. (Subtract the total portfolio value from the emergency fund value.)"
   ]
  },
  {
   "cell_type": "code",
   "execution_count": 27,
   "metadata": {},
   "outputs": [
    {
     "data": {
      "text/plain": [
       "'congrats on the emergency fund'"
      ]
     },
     "metadata": {},
     "output_type": "display_data"
    }
   ],
   "source": [
    "# Evaluate the possibility of creating an emergency fund with 3 conditions:\n",
    "if total_portfolio > emergency_fund_value:\n",
    "    display('congrats on the emergency fund')\n",
    "elif total_portfolio == emergency_fund_value:\n",
    "    display('congrats on your goal')\n",
    "elif total_portfolio < emergency_fund_value:\n",
    "    display(f('estimated additional funds needed: ', {emergency_fund_value - total_portfolio}))\n",
    "\n"
   ]
  },
  {
   "cell_type": "markdown",
   "metadata": {},
   "source": [
    "## Part 2: Create a Financial Planner for Retirement"
   ]
  },
  {
   "cell_type": "markdown",
   "metadata": {},
   "source": [
    "### Create the Monte Carlo Simulation\n",
    "\n",
    "In this section, you’ll use the MCForecastTools library to create a Monte Carlo simulation for the member’s savings portfolio. To do this, complete the following steps:\n",
    "\n",
    "1. Make an API call via the Alpaca SDK to get 3 years of historical closing prices for a traditional 60/40 portfolio split: 60% stocks (SPY) and 40% bonds (AGG).\n",
    "\n",
    "2. Run a Monte Carlo simulation of 500 samples and 30 years for the 60/40 portfolio, and then plot the results.The following image shows the overlay line plot resulting from a simulation with these characteristics. However, because a random number generator is used to run each live Monte Carlo simulation, your image will differ slightly from this exact image:\n",
    "\n",
    "![A screenshot depicts the resulting plot.](Images/5-4-monte-carlo-line-plot.png)\n",
    "\n",
    "3. Plot the probability distribution of the Monte Carlo simulation. Plot the probability distribution of the Monte Carlo simulation. The following image shows the histogram plot resulting from a simulation with these characteristics. However, because a random number generator is used to run each live Monte Carlo simulation, your image will differ slightly from this exact image:\n",
    "\n",
    "![A screenshot depicts the histogram plot.](Images/5-4-monte-carlo-histogram.png)\n",
    "\n",
    "4. Generate the summary statistics for the Monte Carlo simulation.\n",
    "\n"
   ]
  },
  {
   "cell_type": "markdown",
   "metadata": {},
   "source": [
    "#### Step 1: Make an API call via the Alpaca SDK to get 3 years of historical closing prices for a traditional 60/40 portfolio split: 60% stocks (SPY) and 40% bonds (AGG)."
   ]
  },
  {
   "cell_type": "code",
   "execution_count": 28,
   "metadata": {},
   "outputs": [],
   "source": [
    "# Set start and end dates of 3 years back from your current date\n",
    "# Alternatively, you can use an end date of 2020-08-07 and work 3 years back from that date \n",
    "start_date = pd.Timestamp(\"2020-05-01\", tz=\"America/New_York\").isoformat()\n",
    "end_date = pd.Timestamp(\"2023-05-01\", tz=\"America/New_York\").isoformat()"
   ]
  },
  {
   "cell_type": "code",
   "execution_count": 29,
   "metadata": {},
   "outputs": [
    {
     "data": {
      "text/html": [
       "<div>\n",
       "<style scoped>\n",
       "    .dataframe tbody tr th:only-of-type {\n",
       "        vertical-align: middle;\n",
       "    }\n",
       "\n",
       "    .dataframe tbody tr th {\n",
       "        vertical-align: top;\n",
       "    }\n",
       "\n",
       "    .dataframe thead tr th {\n",
       "        text-align: left;\n",
       "    }\n",
       "\n",
       "    .dataframe thead tr:last-of-type th {\n",
       "        text-align: right;\n",
       "    }\n",
       "</style>\n",
       "<table border=\"1\" class=\"dataframe\">\n",
       "  <thead>\n",
       "    <tr>\n",
       "      <th></th>\n",
       "      <th colspan=\"7\" halign=\"left\">AGG</th>\n",
       "      <th colspan=\"7\" halign=\"left\">SPY</th>\n",
       "    </tr>\n",
       "    <tr>\n",
       "      <th></th>\n",
       "      <th>open</th>\n",
       "      <th>high</th>\n",
       "      <th>low</th>\n",
       "      <th>close</th>\n",
       "      <th>volume</th>\n",
       "      <th>trade_count</th>\n",
       "      <th>vwap</th>\n",
       "      <th>open</th>\n",
       "      <th>high</th>\n",
       "      <th>low</th>\n",
       "      <th>close</th>\n",
       "      <th>volume</th>\n",
       "      <th>trade_count</th>\n",
       "      <th>vwap</th>\n",
       "    </tr>\n",
       "    <tr>\n",
       "      <th>timestamp</th>\n",
       "      <th></th>\n",
       "      <th></th>\n",
       "      <th></th>\n",
       "      <th></th>\n",
       "      <th></th>\n",
       "      <th></th>\n",
       "      <th></th>\n",
       "      <th></th>\n",
       "      <th></th>\n",
       "      <th></th>\n",
       "      <th></th>\n",
       "      <th></th>\n",
       "      <th></th>\n",
       "      <th></th>\n",
       "    </tr>\n",
       "  </thead>\n",
       "  <tbody>\n",
       "    <tr>\n",
       "      <th>2020-05-01 04:00:00+00:00</th>\n",
       "      <td>116.97</td>\n",
       "      <td>117.0998</td>\n",
       "      <td>116.6775</td>\n",
       "      <td>116.87</td>\n",
       "      <td>6099551</td>\n",
       "      <td>24394</td>\n",
       "      <td>116.846121</td>\n",
       "      <td>285.31</td>\n",
       "      <td>290.6572</td>\n",
       "      <td>281.5200</td>\n",
       "      <td>282.83</td>\n",
       "      <td>125180028</td>\n",
       "      <td>639987</td>\n",
       "      <td>284.092832</td>\n",
       "    </tr>\n",
       "    <tr>\n",
       "      <th>2020-05-04 04:00:00+00:00</th>\n",
       "      <td>116.89</td>\n",
       "      <td>117.0900</td>\n",
       "      <td>116.8700</td>\n",
       "      <td>116.97</td>\n",
       "      <td>3684081</td>\n",
       "      <td>15545</td>\n",
       "      <td>116.960599</td>\n",
       "      <td>280.73</td>\n",
       "      <td>283.9000</td>\n",
       "      <td>279.1300</td>\n",
       "      <td>283.59</td>\n",
       "      <td>80882213</td>\n",
       "      <td>460681</td>\n",
       "      <td>281.765334</td>\n",
       "    </tr>\n",
       "    <tr>\n",
       "      <th>2020-05-05 04:00:00+00:00</th>\n",
       "      <td>116.96</td>\n",
       "      <td>116.9700</td>\n",
       "      <td>116.8100</td>\n",
       "      <td>116.88</td>\n",
       "      <td>4611519</td>\n",
       "      <td>15146</td>\n",
       "      <td>116.879640</td>\n",
       "      <td>286.64</td>\n",
       "      <td>289.2500</td>\n",
       "      <td>283.7134</td>\n",
       "      <td>286.15</td>\n",
       "      <td>79569939</td>\n",
       "      <td>459764</td>\n",
       "      <td>287.400201</td>\n",
       "    </tr>\n",
       "    <tr>\n",
       "      <th>2020-05-06 04:00:00+00:00</th>\n",
       "      <td>116.44</td>\n",
       "      <td>116.7100</td>\n",
       "      <td>116.3000</td>\n",
       "      <td>116.41</td>\n",
       "      <td>6394949</td>\n",
       "      <td>20233</td>\n",
       "      <td>116.426742</td>\n",
       "      <td>288.05</td>\n",
       "      <td>288.4600</td>\n",
       "      <td>283.7800</td>\n",
       "      <td>284.34</td>\n",
       "      <td>73632628</td>\n",
       "      <td>436219</td>\n",
       "      <td>286.096273</td>\n",
       "    </tr>\n",
       "    <tr>\n",
       "      <th>2020-05-07 04:00:00+00:00</th>\n",
       "      <td>116.61</td>\n",
       "      <td>116.7700</td>\n",
       "      <td>116.4200</td>\n",
       "      <td>116.77</td>\n",
       "      <td>3786651</td>\n",
       "      <td>15963</td>\n",
       "      <td>116.641826</td>\n",
       "      <td>287.75</td>\n",
       "      <td>289.7800</td>\n",
       "      <td>287.1300</td>\n",
       "      <td>287.70</td>\n",
       "      <td>75250412</td>\n",
       "      <td>422688</td>\n",
       "      <td>287.989956</td>\n",
       "    </tr>\n",
       "  </tbody>\n",
       "</table>\n",
       "</div>"
      ],
      "text/plain": [
       "                              AGG                                       \\\n",
       "                             open      high       low   close   volume   \n",
       "timestamp                                                                \n",
       "2020-05-01 04:00:00+00:00  116.97  117.0998  116.6775  116.87  6099551   \n",
       "2020-05-04 04:00:00+00:00  116.89  117.0900  116.8700  116.97  3684081   \n",
       "2020-05-05 04:00:00+00:00  116.96  116.9700  116.8100  116.88  4611519   \n",
       "2020-05-06 04:00:00+00:00  116.44  116.7100  116.3000  116.41  6394949   \n",
       "2020-05-07 04:00:00+00:00  116.61  116.7700  116.4200  116.77  3786651   \n",
       "\n",
       "                                                      SPY                      \\\n",
       "                          trade_count        vwap    open      high       low   \n",
       "timestamp                                                                       \n",
       "2020-05-01 04:00:00+00:00       24394  116.846121  285.31  290.6572  281.5200   \n",
       "2020-05-04 04:00:00+00:00       15545  116.960599  280.73  283.9000  279.1300   \n",
       "2020-05-05 04:00:00+00:00       15146  116.879640  286.64  289.2500  283.7134   \n",
       "2020-05-06 04:00:00+00:00       20233  116.426742  288.05  288.4600  283.7800   \n",
       "2020-05-07 04:00:00+00:00       15963  116.641826  287.75  289.7800  287.1300   \n",
       "\n",
       "                                                                      \n",
       "                            close     volume trade_count        vwap  \n",
       "timestamp                                                             \n",
       "2020-05-01 04:00:00+00:00  282.83  125180028      639987  284.092832  \n",
       "2020-05-04 04:00:00+00:00  283.59   80882213      460681  281.765334  \n",
       "2020-05-05 04:00:00+00:00  286.15   79569939      459764  287.400201  \n",
       "2020-05-06 04:00:00+00:00  284.34   73632628      436219  286.096273  \n",
       "2020-05-07 04:00:00+00:00  287.70   75250412      422688  287.989956  "
      ]
     },
     "execution_count": 29,
     "metadata": {},
     "output_type": "execute_result"
    }
   ],
   "source": [
    "# Use the Alpaca get_bars function to make the API call to get the 3 years worth of pricing data\n",
    "# The tickers and timeframe parameters should have been set in Part 1 of this activity \n",
    "# The start and end dates should be updated with the information set above\n",
    "# Remember to add the df property to the end of the call so the response is returned as a DataFrame\n",
    "prices_df = alpaca.get_bars(\n",
    "    tickers,\n",
    "    timeframe,\n",
    "    start=start_date,\n",
    "    end=end_date\n",
    ").df\n",
    "\n",
    "# Reorganize the DataFrame\n",
    "# Separate ticker data\n",
    "AGG = prices_df[prices_df['symbol']=='AGG'].drop('symbol', axis=1)\n",
    "SPY = prices_df[prices_df['symbol']=='SPY'].drop('symbol', axis=1)\n",
    "\n",
    "# # Concatenate the ticker DataFrames\n",
    "closing_df = pd.concat([AGG, SPY], axis=1, keys=['AGG', 'SPY'])\n",
    "\n",
    "# # Display both the first and last five rows of the DataFrame\n",
    "closing_df.head()\n"
   ]
  },
  {
   "cell_type": "code",
   "execution_count": 30,
   "metadata": {},
   "outputs": [
    {
     "data": {
      "text/html": [
       "<div>\n",
       "<style scoped>\n",
       "    .dataframe tbody tr th:only-of-type {\n",
       "        vertical-align: middle;\n",
       "    }\n",
       "\n",
       "    .dataframe tbody tr th {\n",
       "        vertical-align: top;\n",
       "    }\n",
       "\n",
       "    .dataframe thead tr th {\n",
       "        text-align: left;\n",
       "    }\n",
       "\n",
       "    .dataframe thead tr:last-of-type th {\n",
       "        text-align: right;\n",
       "    }\n",
       "</style>\n",
       "<table border=\"1\" class=\"dataframe\">\n",
       "  <thead>\n",
       "    <tr>\n",
       "      <th></th>\n",
       "      <th colspan=\"7\" halign=\"left\">AGG</th>\n",
       "      <th colspan=\"7\" halign=\"left\">SPY</th>\n",
       "    </tr>\n",
       "    <tr>\n",
       "      <th></th>\n",
       "      <th>open</th>\n",
       "      <th>high</th>\n",
       "      <th>low</th>\n",
       "      <th>close</th>\n",
       "      <th>volume</th>\n",
       "      <th>trade_count</th>\n",
       "      <th>vwap</th>\n",
       "      <th>open</th>\n",
       "      <th>high</th>\n",
       "      <th>low</th>\n",
       "      <th>close</th>\n",
       "      <th>volume</th>\n",
       "      <th>trade_count</th>\n",
       "      <th>vwap</th>\n",
       "    </tr>\n",
       "    <tr>\n",
       "      <th>timestamp</th>\n",
       "      <th></th>\n",
       "      <th></th>\n",
       "      <th></th>\n",
       "      <th></th>\n",
       "      <th></th>\n",
       "      <th></th>\n",
       "      <th></th>\n",
       "      <th></th>\n",
       "      <th></th>\n",
       "      <th></th>\n",
       "      <th></th>\n",
       "      <th></th>\n",
       "      <th></th>\n",
       "      <th></th>\n",
       "    </tr>\n",
       "  </thead>\n",
       "  <tbody>\n",
       "    <tr>\n",
       "      <th>2023-04-25 04:00:00+00:00</th>\n",
       "      <td>99.97</td>\n",
       "      <td>100.25</td>\n",
       "      <td>99.9636</td>\n",
       "      <td>100.18</td>\n",
       "      <td>5065416</td>\n",
       "      <td>26744</td>\n",
       "      <td>100.112017</td>\n",
       "      <td>410.58</td>\n",
       "      <td>411.16</td>\n",
       "      <td>406.020</td>\n",
       "      <td>406.08</td>\n",
       "      <td>97784465</td>\n",
       "      <td>612111</td>\n",
       "      <td>408.273271</td>\n",
       "    </tr>\n",
       "    <tr>\n",
       "      <th>2023-04-26 04:00:00+00:00</th>\n",
       "      <td>100.16</td>\n",
       "      <td>100.22</td>\n",
       "      <td>99.7200</td>\n",
       "      <td>99.81</td>\n",
       "      <td>3723566</td>\n",
       "      <td>18350</td>\n",
       "      <td>99.907609</td>\n",
       "      <td>406.72</td>\n",
       "      <td>407.84</td>\n",
       "      <td>403.780</td>\n",
       "      <td>404.36</td>\n",
       "      <td>80954650</td>\n",
       "      <td>572128</td>\n",
       "      <td>405.591919</td>\n",
       "    </tr>\n",
       "    <tr>\n",
       "      <th>2023-04-27 04:00:00+00:00</th>\n",
       "      <td>99.61</td>\n",
       "      <td>99.63</td>\n",
       "      <td>99.3900</td>\n",
       "      <td>99.45</td>\n",
       "      <td>4018321</td>\n",
       "      <td>21343</td>\n",
       "      <td>99.478744</td>\n",
       "      <td>407.00</td>\n",
       "      <td>412.69</td>\n",
       "      <td>406.740</td>\n",
       "      <td>412.41</td>\n",
       "      <td>92968169</td>\n",
       "      <td>614868</td>\n",
       "      <td>410.101891</td>\n",
       "    </tr>\n",
       "    <tr>\n",
       "      <th>2023-04-28 04:00:00+00:00</th>\n",
       "      <td>99.91</td>\n",
       "      <td>99.99</td>\n",
       "      <td>99.7200</td>\n",
       "      <td>99.96</td>\n",
       "      <td>5314632</td>\n",
       "      <td>24244</td>\n",
       "      <td>99.898951</td>\n",
       "      <td>411.49</td>\n",
       "      <td>415.93</td>\n",
       "      <td>411.430</td>\n",
       "      <td>415.93</td>\n",
       "      <td>84857179</td>\n",
       "      <td>592226</td>\n",
       "      <td>414.377425</td>\n",
       "    </tr>\n",
       "    <tr>\n",
       "      <th>2023-05-01 04:00:00+00:00</th>\n",
       "      <td>99.35</td>\n",
       "      <td>99.41</td>\n",
       "      <td>98.5950</td>\n",
       "      <td>98.69</td>\n",
       "      <td>10631667</td>\n",
       "      <td>24231</td>\n",
       "      <td>99.028460</td>\n",
       "      <td>415.47</td>\n",
       "      <td>417.62</td>\n",
       "      <td>415.265</td>\n",
       "      <td>415.51</td>\n",
       "      <td>62135864</td>\n",
       "      <td>502911</td>\n",
       "      <td>416.206296</td>\n",
       "    </tr>\n",
       "  </tbody>\n",
       "</table>\n",
       "</div>"
      ],
      "text/plain": [
       "                              AGG                                     \\\n",
       "                             open    high      low   close    volume   \n",
       "timestamp                                                              \n",
       "2023-04-25 04:00:00+00:00   99.97  100.25  99.9636  100.18   5065416   \n",
       "2023-04-26 04:00:00+00:00  100.16  100.22  99.7200   99.81   3723566   \n",
       "2023-04-27 04:00:00+00:00   99.61   99.63  99.3900   99.45   4018321   \n",
       "2023-04-28 04:00:00+00:00   99.91   99.99  99.7200   99.96   5314632   \n",
       "2023-05-01 04:00:00+00:00   99.35   99.41  98.5950   98.69  10631667   \n",
       "\n",
       "                                                      SPY                   \\\n",
       "                          trade_count        vwap    open    high      low   \n",
       "timestamp                                                                    \n",
       "2023-04-25 04:00:00+00:00       26744  100.112017  410.58  411.16  406.020   \n",
       "2023-04-26 04:00:00+00:00       18350   99.907609  406.72  407.84  403.780   \n",
       "2023-04-27 04:00:00+00:00       21343   99.478744  407.00  412.69  406.740   \n",
       "2023-04-28 04:00:00+00:00       24244   99.898951  411.49  415.93  411.430   \n",
       "2023-05-01 04:00:00+00:00       24231   99.028460  415.47  417.62  415.265   \n",
       "\n",
       "                                                                     \n",
       "                            close    volume trade_count        vwap  \n",
       "timestamp                                                            \n",
       "2023-04-25 04:00:00+00:00  406.08  97784465      612111  408.273271  \n",
       "2023-04-26 04:00:00+00:00  404.36  80954650      572128  405.591919  \n",
       "2023-04-27 04:00:00+00:00  412.41  92968169      614868  410.101891  \n",
       "2023-04-28 04:00:00+00:00  415.93  84857179      592226  414.377425  \n",
       "2023-05-01 04:00:00+00:00  415.51  62135864      502911  416.206296  "
      ]
     },
     "execution_count": 30,
     "metadata": {},
     "output_type": "execute_result"
    }
   ],
   "source": [
    "closing_df.tail()"
   ]
  },
  {
   "cell_type": "markdown",
   "metadata": {},
   "source": [
    "#### Step 2: Run a Monte Carlo simulation of 500 samples and 30 years for the 60/40 portfolio, and then plot the results."
   ]
  },
  {
   "cell_type": "code",
   "execution_count": 31,
   "metadata": {},
   "outputs": [
    {
     "data": {
      "text/html": [
       "<div>\n",
       "<style scoped>\n",
       "    .dataframe tbody tr th:only-of-type {\n",
       "        vertical-align: middle;\n",
       "    }\n",
       "\n",
       "    .dataframe tbody tr th {\n",
       "        vertical-align: top;\n",
       "    }\n",
       "\n",
       "    .dataframe thead tr th {\n",
       "        text-align: left;\n",
       "    }\n",
       "\n",
       "    .dataframe thead tr:last-of-type th {\n",
       "        text-align: right;\n",
       "    }\n",
       "</style>\n",
       "<table border=\"1\" class=\"dataframe\">\n",
       "  <thead>\n",
       "    <tr>\n",
       "      <th></th>\n",
       "      <th colspan=\"8\" halign=\"left\">AGG</th>\n",
       "      <th colspan=\"8\" halign=\"left\">SPY</th>\n",
       "    </tr>\n",
       "    <tr>\n",
       "      <th></th>\n",
       "      <th>open</th>\n",
       "      <th>high</th>\n",
       "      <th>low</th>\n",
       "      <th>close</th>\n",
       "      <th>volume</th>\n",
       "      <th>trade_count</th>\n",
       "      <th>vwap</th>\n",
       "      <th>daily_return</th>\n",
       "      <th>open</th>\n",
       "      <th>high</th>\n",
       "      <th>low</th>\n",
       "      <th>close</th>\n",
       "      <th>volume</th>\n",
       "      <th>trade_count</th>\n",
       "      <th>vwap</th>\n",
       "      <th>daily_return</th>\n",
       "    </tr>\n",
       "    <tr>\n",
       "      <th>timestamp</th>\n",
       "      <th></th>\n",
       "      <th></th>\n",
       "      <th></th>\n",
       "      <th></th>\n",
       "      <th></th>\n",
       "      <th></th>\n",
       "      <th></th>\n",
       "      <th></th>\n",
       "      <th></th>\n",
       "      <th></th>\n",
       "      <th></th>\n",
       "      <th></th>\n",
       "      <th></th>\n",
       "      <th></th>\n",
       "      <th></th>\n",
       "      <th></th>\n",
       "    </tr>\n",
       "  </thead>\n",
       "  <tbody>\n",
       "    <tr>\n",
       "      <th>2020-05-01 04:00:00+00:00</th>\n",
       "      <td>116.97</td>\n",
       "      <td>117.0998</td>\n",
       "      <td>116.6775</td>\n",
       "      <td>116.87</td>\n",
       "      <td>6099551</td>\n",
       "      <td>24394</td>\n",
       "      <td>116.846121</td>\n",
       "      <td>NaN</td>\n",
       "      <td>285.31</td>\n",
       "      <td>290.6572</td>\n",
       "      <td>281.5200</td>\n",
       "      <td>282.83</td>\n",
       "      <td>125180028</td>\n",
       "      <td>639987</td>\n",
       "      <td>284.092832</td>\n",
       "      <td>NaN</td>\n",
       "    </tr>\n",
       "    <tr>\n",
       "      <th>2020-05-04 04:00:00+00:00</th>\n",
       "      <td>116.89</td>\n",
       "      <td>117.0900</td>\n",
       "      <td>116.8700</td>\n",
       "      <td>116.97</td>\n",
       "      <td>3684081</td>\n",
       "      <td>15545</td>\n",
       "      <td>116.960599</td>\n",
       "      <td>0.000856</td>\n",
       "      <td>280.73</td>\n",
       "      <td>283.9000</td>\n",
       "      <td>279.1300</td>\n",
       "      <td>283.59</td>\n",
       "      <td>80882213</td>\n",
       "      <td>460681</td>\n",
       "      <td>281.765334</td>\n",
       "      <td>0.002687</td>\n",
       "    </tr>\n",
       "    <tr>\n",
       "      <th>2020-05-05 04:00:00+00:00</th>\n",
       "      <td>116.96</td>\n",
       "      <td>116.9700</td>\n",
       "      <td>116.8100</td>\n",
       "      <td>116.88</td>\n",
       "      <td>4611519</td>\n",
       "      <td>15146</td>\n",
       "      <td>116.879640</td>\n",
       "      <td>-0.000769</td>\n",
       "      <td>286.64</td>\n",
       "      <td>289.2500</td>\n",
       "      <td>283.7134</td>\n",
       "      <td>286.15</td>\n",
       "      <td>79569939</td>\n",
       "      <td>459764</td>\n",
       "      <td>287.400201</td>\n",
       "      <td>0.009027</td>\n",
       "    </tr>\n",
       "    <tr>\n",
       "      <th>2020-05-06 04:00:00+00:00</th>\n",
       "      <td>116.44</td>\n",
       "      <td>116.7100</td>\n",
       "      <td>116.3000</td>\n",
       "      <td>116.41</td>\n",
       "      <td>6394949</td>\n",
       "      <td>20233</td>\n",
       "      <td>116.426742</td>\n",
       "      <td>-0.004021</td>\n",
       "      <td>288.05</td>\n",
       "      <td>288.4600</td>\n",
       "      <td>283.7800</td>\n",
       "      <td>284.34</td>\n",
       "      <td>73632628</td>\n",
       "      <td>436219</td>\n",
       "      <td>286.096273</td>\n",
       "      <td>-0.006325</td>\n",
       "    </tr>\n",
       "    <tr>\n",
       "      <th>2020-05-07 04:00:00+00:00</th>\n",
       "      <td>116.61</td>\n",
       "      <td>116.7700</td>\n",
       "      <td>116.4200</td>\n",
       "      <td>116.77</td>\n",
       "      <td>3786651</td>\n",
       "      <td>15963</td>\n",
       "      <td>116.641826</td>\n",
       "      <td>0.003093</td>\n",
       "      <td>287.75</td>\n",
       "      <td>289.7800</td>\n",
       "      <td>287.1300</td>\n",
       "      <td>287.70</td>\n",
       "      <td>75250412</td>\n",
       "      <td>422688</td>\n",
       "      <td>287.989956</td>\n",
       "      <td>0.011817</td>\n",
       "    </tr>\n",
       "  </tbody>\n",
       "</table>\n",
       "</div>"
      ],
      "text/plain": [
       "                              AGG                                       \\\n",
       "                             open      high       low   close   volume   \n",
       "timestamp                                                                \n",
       "2020-05-01 04:00:00+00:00  116.97  117.0998  116.6775  116.87  6099551   \n",
       "2020-05-04 04:00:00+00:00  116.89  117.0900  116.8700  116.97  3684081   \n",
       "2020-05-05 04:00:00+00:00  116.96  116.9700  116.8100  116.88  4611519   \n",
       "2020-05-06 04:00:00+00:00  116.44  116.7100  116.3000  116.41  6394949   \n",
       "2020-05-07 04:00:00+00:00  116.61  116.7700  116.4200  116.77  3786651   \n",
       "\n",
       "                                                                   SPY  \\\n",
       "                          trade_count        vwap daily_return    open   \n",
       "timestamp                                                                \n",
       "2020-05-01 04:00:00+00:00       24394  116.846121          NaN  285.31   \n",
       "2020-05-04 04:00:00+00:00       15545  116.960599     0.000856  280.73   \n",
       "2020-05-05 04:00:00+00:00       15146  116.879640    -0.000769  286.64   \n",
       "2020-05-06 04:00:00+00:00       20233  116.426742    -0.004021  288.05   \n",
       "2020-05-07 04:00:00+00:00       15963  116.641826     0.003093  287.75   \n",
       "\n",
       "                                                                              \\\n",
       "                               high       low   close     volume trade_count   \n",
       "timestamp                                                                      \n",
       "2020-05-01 04:00:00+00:00  290.6572  281.5200  282.83  125180028      639987   \n",
       "2020-05-04 04:00:00+00:00  283.9000  279.1300  283.59   80882213      460681   \n",
       "2020-05-05 04:00:00+00:00  289.2500  283.7134  286.15   79569939      459764   \n",
       "2020-05-06 04:00:00+00:00  288.4600  283.7800  284.34   73632628      436219   \n",
       "2020-05-07 04:00:00+00:00  289.7800  287.1300  287.70   75250412      422688   \n",
       "\n",
       "                                                    \n",
       "                                 vwap daily_return  \n",
       "timestamp                                           \n",
       "2020-05-01 04:00:00+00:00  284.092832          NaN  \n",
       "2020-05-04 04:00:00+00:00  281.765334     0.002687  \n",
       "2020-05-05 04:00:00+00:00  287.400201     0.009027  \n",
       "2020-05-06 04:00:00+00:00  286.096273    -0.006325  \n",
       "2020-05-07 04:00:00+00:00  287.989956     0.011817  "
      ]
     },
     "execution_count": 31,
     "metadata": {},
     "output_type": "execute_result"
    }
   ],
   "source": [
    "# Configure the Monte Carlo simulation to forecast 30 years cumulative returns\n",
    "# The weights should be split 40% to AGG and 60% to SPY.\n",
    "# Run 500 samples.\n",
    "MC = MCSimulation(\n",
    "    portfolio_data = closing_df,\n",
    "    weights = [.40,.60],\n",
    "    num_simulation = 500,\n",
    "    num_trading_days = 252*30)\n",
    "\n",
    "# Review the simulation input data\n",
    "MC.portfolio_data.head()\n"
   ]
  },
  {
   "cell_type": "code",
   "execution_count": 32,
   "metadata": {},
   "outputs": [
    {
     "name": "stdout",
     "output_type": "stream",
     "text": [
      "Running Monte Carlo simulation number 0.\n",
      "Running Monte Carlo simulation number 10.\n",
      "Running Monte Carlo simulation number 20.\n",
      "Running Monte Carlo simulation number 30.\n",
      "Running Monte Carlo simulation number 40.\n",
      "Running Monte Carlo simulation number 50.\n",
      "Running Monte Carlo simulation number 60.\n",
      "Running Monte Carlo simulation number 70.\n",
      "Running Monte Carlo simulation number 80.\n",
      "Running Monte Carlo simulation number 90.\n",
      "Running Monte Carlo simulation number 100.\n"
     ]
    },
    {
     "name": "stderr",
     "output_type": "stream",
     "text": [
      "/Users/melissadiquisto/Bootcamp/FinTech_Workspace/Module_5/Starter_Code_4/MCForecastTools.py:117: PerformanceWarning: DataFrame is highly fragmented.  This is usually the result of calling `frame.insert` many times, which has poor performance.  Consider joining all columns at once using pd.concat(axis=1) instead.  To get a de-fragmented frame, use `newframe = frame.copy()`\n",
      "  portfolio_cumulative_returns[n] = (1 + sim_df.fillna(0)).cumprod()\n"
     ]
    },
    {
     "name": "stdout",
     "output_type": "stream",
     "text": [
      "Running Monte Carlo simulation number 110.\n",
      "Running Monte Carlo simulation number 120.\n",
      "Running Monte Carlo simulation number 130.\n",
      "Running Monte Carlo simulation number 140.\n",
      "Running Monte Carlo simulation number 150.\n",
      "Running Monte Carlo simulation number 160.\n",
      "Running Monte Carlo simulation number 170.\n",
      "Running Monte Carlo simulation number 180.\n",
      "Running Monte Carlo simulation number 190.\n",
      "Running Monte Carlo simulation number 200.\n",
      "Running Monte Carlo simulation number 210.\n",
      "Running Monte Carlo simulation number 220.\n",
      "Running Monte Carlo simulation number 230.\n",
      "Running Monte Carlo simulation number 240.\n",
      "Running Monte Carlo simulation number 250.\n",
      "Running Monte Carlo simulation number 260.\n",
      "Running Monte Carlo simulation number 270.\n",
      "Running Monte Carlo simulation number 280.\n",
      "Running Monte Carlo simulation number 290.\n",
      "Running Monte Carlo simulation number 300.\n",
      "Running Monte Carlo simulation number 310.\n",
      "Running Monte Carlo simulation number 320.\n",
      "Running Monte Carlo simulation number 330.\n",
      "Running Monte Carlo simulation number 340.\n",
      "Running Monte Carlo simulation number 350.\n",
      "Running Monte Carlo simulation number 360.\n",
      "Running Monte Carlo simulation number 370.\n",
      "Running Monte Carlo simulation number 380.\n",
      "Running Monte Carlo simulation number 390.\n",
      "Running Monte Carlo simulation number 400.\n",
      "Running Monte Carlo simulation number 410.\n",
      "Running Monte Carlo simulation number 420.\n",
      "Running Monte Carlo simulation number 430.\n",
      "Running Monte Carlo simulation number 440.\n",
      "Running Monte Carlo simulation number 450.\n",
      "Running Monte Carlo simulation number 460.\n",
      "Running Monte Carlo simulation number 470.\n",
      "Running Monte Carlo simulation number 480.\n",
      "Running Monte Carlo simulation number 490.\n"
     ]
    },
    {
     "data": {
      "text/html": [
       "<div>\n",
       "<style scoped>\n",
       "    .dataframe tbody tr th:only-of-type {\n",
       "        vertical-align: middle;\n",
       "    }\n",
       "\n",
       "    .dataframe tbody tr th {\n",
       "        vertical-align: top;\n",
       "    }\n",
       "\n",
       "    .dataframe thead th {\n",
       "        text-align: right;\n",
       "    }\n",
       "</style>\n",
       "<table border=\"1\" class=\"dataframe\">\n",
       "  <thead>\n",
       "    <tr style=\"text-align: right;\">\n",
       "      <th></th>\n",
       "      <th>0</th>\n",
       "      <th>1</th>\n",
       "      <th>2</th>\n",
       "      <th>3</th>\n",
       "      <th>4</th>\n",
       "      <th>5</th>\n",
       "      <th>6</th>\n",
       "      <th>7</th>\n",
       "      <th>8</th>\n",
       "      <th>9</th>\n",
       "      <th>...</th>\n",
       "      <th>490</th>\n",
       "      <th>491</th>\n",
       "      <th>492</th>\n",
       "      <th>493</th>\n",
       "      <th>494</th>\n",
       "      <th>495</th>\n",
       "      <th>496</th>\n",
       "      <th>497</th>\n",
       "      <th>498</th>\n",
       "      <th>499</th>\n",
       "    </tr>\n",
       "  </thead>\n",
       "  <tbody>\n",
       "    <tr>\n",
       "      <th>0</th>\n",
       "      <td>1.000000</td>\n",
       "      <td>1.000000</td>\n",
       "      <td>1.000000</td>\n",
       "      <td>1.000000</td>\n",
       "      <td>1.000000</td>\n",
       "      <td>1.000000</td>\n",
       "      <td>1.000000</td>\n",
       "      <td>1.000000</td>\n",
       "      <td>1.000000</td>\n",
       "      <td>1.000000</td>\n",
       "      <td>...</td>\n",
       "      <td>1.000000</td>\n",
       "      <td>1.000000</td>\n",
       "      <td>1.000000</td>\n",
       "      <td>1.000000</td>\n",
       "      <td>1.000000</td>\n",
       "      <td>1.000000</td>\n",
       "      <td>1.000000</td>\n",
       "      <td>1.000000</td>\n",
       "      <td>1.000000</td>\n",
       "      <td>1.000000</td>\n",
       "    </tr>\n",
       "    <tr>\n",
       "      <th>1</th>\n",
       "      <td>0.990202</td>\n",
       "      <td>1.011518</td>\n",
       "      <td>0.986554</td>\n",
       "      <td>0.994485</td>\n",
       "      <td>0.988090</td>\n",
       "      <td>0.991983</td>\n",
       "      <td>1.005884</td>\n",
       "      <td>0.991749</td>\n",
       "      <td>0.995404</td>\n",
       "      <td>0.983523</td>\n",
       "      <td>...</td>\n",
       "      <td>1.001984</td>\n",
       "      <td>0.987639</td>\n",
       "      <td>0.998822</td>\n",
       "      <td>1.002696</td>\n",
       "      <td>0.997395</td>\n",
       "      <td>0.994369</td>\n",
       "      <td>0.995553</td>\n",
       "      <td>0.990255</td>\n",
       "      <td>0.995905</td>\n",
       "      <td>0.996208</td>\n",
       "    </tr>\n",
       "    <tr>\n",
       "      <th>2</th>\n",
       "      <td>0.986379</td>\n",
       "      <td>1.015141</td>\n",
       "      <td>0.968104</td>\n",
       "      <td>0.992045</td>\n",
       "      <td>0.976935</td>\n",
       "      <td>0.991603</td>\n",
       "      <td>1.010539</td>\n",
       "      <td>0.999564</td>\n",
       "      <td>0.998288</td>\n",
       "      <td>0.974140</td>\n",
       "      <td>...</td>\n",
       "      <td>1.005688</td>\n",
       "      <td>0.986836</td>\n",
       "      <td>0.997116</td>\n",
       "      <td>0.997148</td>\n",
       "      <td>0.998726</td>\n",
       "      <td>0.979257</td>\n",
       "      <td>0.999359</td>\n",
       "      <td>0.994336</td>\n",
       "      <td>1.012797</td>\n",
       "      <td>0.995353</td>\n",
       "    </tr>\n",
       "    <tr>\n",
       "      <th>3</th>\n",
       "      <td>1.000590</td>\n",
       "      <td>1.002866</td>\n",
       "      <td>0.965084</td>\n",
       "      <td>1.007532</td>\n",
       "      <td>0.985752</td>\n",
       "      <td>0.999153</td>\n",
       "      <td>1.009162</td>\n",
       "      <td>1.003023</td>\n",
       "      <td>0.990699</td>\n",
       "      <td>0.965153</td>\n",
       "      <td>...</td>\n",
       "      <td>1.008030</td>\n",
       "      <td>0.993126</td>\n",
       "      <td>0.999534</td>\n",
       "      <td>0.993271</td>\n",
       "      <td>0.994873</td>\n",
       "      <td>0.965697</td>\n",
       "      <td>0.987077</td>\n",
       "      <td>0.994217</td>\n",
       "      <td>1.016018</td>\n",
       "      <td>0.987296</td>\n",
       "    </tr>\n",
       "    <tr>\n",
       "      <th>4</th>\n",
       "      <td>1.008295</td>\n",
       "      <td>0.996887</td>\n",
       "      <td>0.958353</td>\n",
       "      <td>1.000900</td>\n",
       "      <td>0.990083</td>\n",
       "      <td>1.009935</td>\n",
       "      <td>1.019434</td>\n",
       "      <td>0.984327</td>\n",
       "      <td>0.993939</td>\n",
       "      <td>0.954049</td>\n",
       "      <td>...</td>\n",
       "      <td>0.996571</td>\n",
       "      <td>0.997976</td>\n",
       "      <td>0.994614</td>\n",
       "      <td>1.002962</td>\n",
       "      <td>0.995852</td>\n",
       "      <td>0.967993</td>\n",
       "      <td>0.987135</td>\n",
       "      <td>0.997256</td>\n",
       "      <td>1.014332</td>\n",
       "      <td>0.997569</td>\n",
       "    </tr>\n",
       "    <tr>\n",
       "      <th>...</th>\n",
       "      <td>...</td>\n",
       "      <td>...</td>\n",
       "      <td>...</td>\n",
       "      <td>...</td>\n",
       "      <td>...</td>\n",
       "      <td>...</td>\n",
       "      <td>...</td>\n",
       "      <td>...</td>\n",
       "      <td>...</td>\n",
       "      <td>...</td>\n",
       "      <td>...</td>\n",
       "      <td>...</td>\n",
       "      <td>...</td>\n",
       "      <td>...</td>\n",
       "      <td>...</td>\n",
       "      <td>...</td>\n",
       "      <td>...</td>\n",
       "      <td>...</td>\n",
       "      <td>...</td>\n",
       "      <td>...</td>\n",
       "      <td>...</td>\n",
       "    </tr>\n",
       "    <tr>\n",
       "      <th>7556</th>\n",
       "      <td>1.231361</td>\n",
       "      <td>6.587616</td>\n",
       "      <td>4.669437</td>\n",
       "      <td>3.400376</td>\n",
       "      <td>4.702474</td>\n",
       "      <td>3.366676</td>\n",
       "      <td>3.602064</td>\n",
       "      <td>3.121539</td>\n",
       "      <td>3.519356</td>\n",
       "      <td>5.918025</td>\n",
       "      <td>...</td>\n",
       "      <td>1.233811</td>\n",
       "      <td>5.560033</td>\n",
       "      <td>4.066628</td>\n",
       "      <td>4.909607</td>\n",
       "      <td>10.473509</td>\n",
       "      <td>4.684937</td>\n",
       "      <td>4.171427</td>\n",
       "      <td>4.132120</td>\n",
       "      <td>4.391318</td>\n",
       "      <td>9.453898</td>\n",
       "    </tr>\n",
       "    <tr>\n",
       "      <th>7557</th>\n",
       "      <td>1.230327</td>\n",
       "      <td>6.653430</td>\n",
       "      <td>4.675940</td>\n",
       "      <td>3.371137</td>\n",
       "      <td>4.702157</td>\n",
       "      <td>3.419658</td>\n",
       "      <td>3.589619</td>\n",
       "      <td>3.117951</td>\n",
       "      <td>3.533060</td>\n",
       "      <td>5.988445</td>\n",
       "      <td>...</td>\n",
       "      <td>1.220093</td>\n",
       "      <td>5.512018</td>\n",
       "      <td>4.091485</td>\n",
       "      <td>4.916653</td>\n",
       "      <td>10.515198</td>\n",
       "      <td>4.674555</td>\n",
       "      <td>4.173577</td>\n",
       "      <td>4.180813</td>\n",
       "      <td>4.380576</td>\n",
       "      <td>9.557380</td>\n",
       "    </tr>\n",
       "    <tr>\n",
       "      <th>7558</th>\n",
       "      <td>1.244136</td>\n",
       "      <td>6.689150</td>\n",
       "      <td>4.659810</td>\n",
       "      <td>3.342613</td>\n",
       "      <td>4.722688</td>\n",
       "      <td>3.423959</td>\n",
       "      <td>3.622072</td>\n",
       "      <td>3.107877</td>\n",
       "      <td>3.486000</td>\n",
       "      <td>6.022929</td>\n",
       "      <td>...</td>\n",
       "      <td>1.224111</td>\n",
       "      <td>5.484469</td>\n",
       "      <td>4.099604</td>\n",
       "      <td>4.923503</td>\n",
       "      <td>10.595340</td>\n",
       "      <td>4.721734</td>\n",
       "      <td>4.174619</td>\n",
       "      <td>4.211114</td>\n",
       "      <td>4.371065</td>\n",
       "      <td>9.451242</td>\n",
       "    </tr>\n",
       "    <tr>\n",
       "      <th>7559</th>\n",
       "      <td>1.258097</td>\n",
       "      <td>6.721007</td>\n",
       "      <td>4.639414</td>\n",
       "      <td>3.354399</td>\n",
       "      <td>4.626459</td>\n",
       "      <td>3.424981</td>\n",
       "      <td>3.580284</td>\n",
       "      <td>3.141091</td>\n",
       "      <td>3.509204</td>\n",
       "      <td>6.013494</td>\n",
       "      <td>...</td>\n",
       "      <td>1.204557</td>\n",
       "      <td>5.440487</td>\n",
       "      <td>4.093072</td>\n",
       "      <td>4.882959</td>\n",
       "      <td>10.458043</td>\n",
       "      <td>4.681018</td>\n",
       "      <td>4.172200</td>\n",
       "      <td>4.183150</td>\n",
       "      <td>4.404205</td>\n",
       "      <td>9.342252</td>\n",
       "    </tr>\n",
       "    <tr>\n",
       "      <th>7560</th>\n",
       "      <td>1.245039</td>\n",
       "      <td>6.659321</td>\n",
       "      <td>4.715232</td>\n",
       "      <td>3.344969</td>\n",
       "      <td>4.623211</td>\n",
       "      <td>3.473428</td>\n",
       "      <td>3.587287</td>\n",
       "      <td>3.166674</td>\n",
       "      <td>3.500580</td>\n",
       "      <td>6.035260</td>\n",
       "      <td>...</td>\n",
       "      <td>1.201211</td>\n",
       "      <td>5.466822</td>\n",
       "      <td>4.070568</td>\n",
       "      <td>4.946403</td>\n",
       "      <td>10.446500</td>\n",
       "      <td>4.625833</td>\n",
       "      <td>4.136769</td>\n",
       "      <td>4.190652</td>\n",
       "      <td>4.435419</td>\n",
       "      <td>9.293127</td>\n",
       "    </tr>\n",
       "  </tbody>\n",
       "</table>\n",
       "<p>7561 rows × 500 columns</p>\n",
       "</div>"
      ],
      "text/plain": [
       "           0         1         2         3         4         5         6    \\\n",
       "0     1.000000  1.000000  1.000000  1.000000  1.000000  1.000000  1.000000   \n",
       "1     0.990202  1.011518  0.986554  0.994485  0.988090  0.991983  1.005884   \n",
       "2     0.986379  1.015141  0.968104  0.992045  0.976935  0.991603  1.010539   \n",
       "3     1.000590  1.002866  0.965084  1.007532  0.985752  0.999153  1.009162   \n",
       "4     1.008295  0.996887  0.958353  1.000900  0.990083  1.009935  1.019434   \n",
       "...        ...       ...       ...       ...       ...       ...       ...   \n",
       "7556  1.231361  6.587616  4.669437  3.400376  4.702474  3.366676  3.602064   \n",
       "7557  1.230327  6.653430  4.675940  3.371137  4.702157  3.419658  3.589619   \n",
       "7558  1.244136  6.689150  4.659810  3.342613  4.722688  3.423959  3.622072   \n",
       "7559  1.258097  6.721007  4.639414  3.354399  4.626459  3.424981  3.580284   \n",
       "7560  1.245039  6.659321  4.715232  3.344969  4.623211  3.473428  3.587287   \n",
       "\n",
       "           7         8         9    ...       490       491       492  \\\n",
       "0     1.000000  1.000000  1.000000  ...  1.000000  1.000000  1.000000   \n",
       "1     0.991749  0.995404  0.983523  ...  1.001984  0.987639  0.998822   \n",
       "2     0.999564  0.998288  0.974140  ...  1.005688  0.986836  0.997116   \n",
       "3     1.003023  0.990699  0.965153  ...  1.008030  0.993126  0.999534   \n",
       "4     0.984327  0.993939  0.954049  ...  0.996571  0.997976  0.994614   \n",
       "...        ...       ...       ...  ...       ...       ...       ...   \n",
       "7556  3.121539  3.519356  5.918025  ...  1.233811  5.560033  4.066628   \n",
       "7557  3.117951  3.533060  5.988445  ...  1.220093  5.512018  4.091485   \n",
       "7558  3.107877  3.486000  6.022929  ...  1.224111  5.484469  4.099604   \n",
       "7559  3.141091  3.509204  6.013494  ...  1.204557  5.440487  4.093072   \n",
       "7560  3.166674  3.500580  6.035260  ...  1.201211  5.466822  4.070568   \n",
       "\n",
       "           493        494       495       496       497       498       499  \n",
       "0     1.000000   1.000000  1.000000  1.000000  1.000000  1.000000  1.000000  \n",
       "1     1.002696   0.997395  0.994369  0.995553  0.990255  0.995905  0.996208  \n",
       "2     0.997148   0.998726  0.979257  0.999359  0.994336  1.012797  0.995353  \n",
       "3     0.993271   0.994873  0.965697  0.987077  0.994217  1.016018  0.987296  \n",
       "4     1.002962   0.995852  0.967993  0.987135  0.997256  1.014332  0.997569  \n",
       "...        ...        ...       ...       ...       ...       ...       ...  \n",
       "7556  4.909607  10.473509  4.684937  4.171427  4.132120  4.391318  9.453898  \n",
       "7557  4.916653  10.515198  4.674555  4.173577  4.180813  4.380576  9.557380  \n",
       "7558  4.923503  10.595340  4.721734  4.174619  4.211114  4.371065  9.451242  \n",
       "7559  4.882959  10.458043  4.681018  4.172200  4.183150  4.404205  9.342252  \n",
       "7560  4.946403  10.446500  4.625833  4.136769  4.190652  4.435419  9.293127  \n",
       "\n",
       "[7561 rows x 500 columns]"
      ]
     },
     "execution_count": 32,
     "metadata": {},
     "output_type": "execute_result"
    }
   ],
   "source": [
    "# Run the Monte Carlo simulation to forecast 30 years cumulative returns\n",
    "MC.calc_cumulative_return()\n"
   ]
  },
  {
   "cell_type": "code",
   "execution_count": 33,
   "metadata": {},
   "outputs": [
    {
     "data": {
      "image/png": "[encoded data removed]",
      "text/plain": [
       "<Figure size 640x480 with 1 Axes>"
      ]
     },
     "metadata": {},
     "output_type": "display_data"
    }
   ],
   "source": [
    "# Visualize the 30-year Monte Carlo simulation by creating an\n",
    "# overlay line plot\n",
    "line_plot = MC.plot_simulation()\n"
   ]
  },
  {
   "cell_type": "markdown",
   "metadata": {},
   "source": [
    "#### Step 3: Plot the probability distribution of the Monte Carlo simulation."
   ]
  },
  {
   "cell_type": "code",
   "execution_count": 34,
   "metadata": {},
   "outputs": [
    {
     "data": {
      "image/png": "[encoded data removed]",
      "text/plain": [
       "<Figure size 640x480 with 1 Axes>"
      ]
     },
     "metadata": {},
     "output_type": "display_data"
    }
   ],
   "source": [
    "# Visualize the probability distribution of the 30-year Monte Carlo simulation \n",
    "# by plotting a histogram\n",
    "his_plot = MC.plot_distribution()\n"
   ]
  },
  {
   "cell_type": "markdown",
   "metadata": {},
   "source": [
    "#### Step 4: Generate the summary statistics for the Monte Carlo simulation."
   ]
  },
  {
   "cell_type": "code",
   "execution_count": 35,
   "metadata": {},
   "outputs": [
    {
     "data": {
      "text/plain": [
       "count           500.000000\n",
       "mean              7.253423\n",
       "std               5.107911\n",
       "min               1.011179\n",
       "25%               3.851856\n",
       "50%               5.858344\n",
       "75%               9.220196\n",
       "max              36.478556\n",
       "95% CI Lower      1.824228\n",
       "95% CI Upper     20.623958\n",
       "Name: 7560, dtype: float64"
      ]
     },
     "execution_count": 35,
     "metadata": {},
     "output_type": "execute_result"
    }
   ],
   "source": [
    "# Generate summary statistics from the 30-year Monte Carlo simulation results\n",
    "# Save the results as a variable\n",
    "summary_stats = MC.summarize_cumulative_return()\n",
    "\n",
    "\n",
    "# Review the 30-year Monte Carlo summary statistics\n",
    "summary_stats"
   ]
  },
  {
   "cell_type": "markdown",
   "metadata": {},
   "source": [
    "### Analyze the Retirement Portfolio Forecasts\n",
    "\n",
    "Using the current value of only the stock and bond portion of the member's portfolio and the summary statistics that you generated from the Monte Carlo simulation, answer the following question in your Jupyter notebook:\n",
    "\n",
    "-  What are the lower and upper bounds for the expected value of the portfolio with a 95% confidence interval?\n",
    "1.82 and 23.03"
   ]
  },
  {
   "cell_type": "code",
   "execution_count": 36,
   "metadata": {},
   "outputs": [
    {
     "data": {
      "text/plain": [
       "65343.5"
      ]
     },
     "execution_count": 36,
     "metadata": {},
     "output_type": "execute_result"
    }
   ],
   "source": [
    "# Print the current balance of the stock and bond portion of the members portfolio\n",
    "total_stocks_bonds\n"
   ]
  },
  {
   "cell_type": "code",
   "execution_count": 37,
   "metadata": {},
   "outputs": [
    {
     "name": "stdout",
     "output_type": "stream",
     "text": [
      "upper: $206239.57962769395 and lower: $18242.27645156534\n"
     ]
    }
   ],
   "source": [
    "# Use the lower and upper `95%` confidence intervals to calculate the range of the possible outcomes for the current stock/bond portfolio\n",
    "ci_lower_thirty_cumulative_return = summary_stats[8] * 10000\n",
    "ci_upper_thirty_cumulative_return = summary_stats[9] * 10000\n",
    "\n",
    "# Print the result of your calculations\n",
    "print(f\"upper: ${ci_upper_thirty_cumulative_return} and lower: ${ci_lower_thirty_cumulative_return}\")\n"
   ]
  },
  {
   "cell_type": "markdown",
   "metadata": {},
   "source": [
    "### Forecast Cumulative Returns in 10 Years\n",
    "\n",
    "The CTO of the credit union is impressed with your work on these planning tools but wonders if 30 years is a long time to wait until retirement. So, your next task is to adjust the retirement portfolio and run a new Monte Carlo simulation to find out if the changes will allow members to retire earlier.\n",
    "\n",
    "For this new Monte Carlo simulation, do the following: \n",
    "\n",
    "- Forecast the cumulative returns for 10 years from now. Because of the shortened investment horizon (30 years to 10 years), the portfolio needs to invest more heavily in the riskier asset&mdash;that is, stock&mdash;to help accumulate wealth for retirement. \n",
    "\n",
    "- Adjust the weights of the retirement portfolio so that the composition for the Monte Carlo simulation consists of 20% bonds and 80% stocks. \n",
    "\n",
    "- Run the simulation over 500 samples, and use the same data that the API call to Alpaca generated.\n",
    "\n",
    "- Based on the new Monte Carlo simulation, answer the following questions in your Jupyter notebook:\n",
    "\n",
    "    - Using the current value of only the stock and bond portion of the member's portfolio and the summary statistics that you generated from the new Monte Carlo simulation, what are the lower and upper bounds for the expected value of the portfolio (with the new weights) with a 95% confidence interval?\n",
    "\n",
    "    - Will weighting the portfolio more heavily toward stocks allow the credit union members to retire after only 10 years?\n"
   ]
  },
  {
   "cell_type": "code",
   "execution_count": 38,
   "metadata": {},
   "outputs": [
    {
     "data": {
      "text/html": [
       "<div>\n",
       "<style scoped>\n",
       "    .dataframe tbody tr th:only-of-type {\n",
       "        vertical-align: middle;\n",
       "    }\n",
       "\n",
       "    .dataframe tbody tr th {\n",
       "        vertical-align: top;\n",
       "    }\n",
       "\n",
       "    .dataframe thead tr th {\n",
       "        text-align: left;\n",
       "    }\n",
       "\n",
       "    .dataframe thead tr:last-of-type th {\n",
       "        text-align: right;\n",
       "    }\n",
       "</style>\n",
       "<table border=\"1\" class=\"dataframe\">\n",
       "  <thead>\n",
       "    <tr>\n",
       "      <th></th>\n",
       "      <th colspan=\"8\" halign=\"left\">AGG</th>\n",
       "      <th colspan=\"8\" halign=\"left\">SPY</th>\n",
       "    </tr>\n",
       "    <tr>\n",
       "      <th></th>\n",
       "      <th>open</th>\n",
       "      <th>high</th>\n",
       "      <th>low</th>\n",
       "      <th>close</th>\n",
       "      <th>volume</th>\n",
       "      <th>trade_count</th>\n",
       "      <th>vwap</th>\n",
       "      <th>daily_return</th>\n",
       "      <th>open</th>\n",
       "      <th>high</th>\n",
       "      <th>low</th>\n",
       "      <th>close</th>\n",
       "      <th>volume</th>\n",
       "      <th>trade_count</th>\n",
       "      <th>vwap</th>\n",
       "      <th>daily_return</th>\n",
       "    </tr>\n",
       "    <tr>\n",
       "      <th>timestamp</th>\n",
       "      <th></th>\n",
       "      <th></th>\n",
       "      <th></th>\n",
       "      <th></th>\n",
       "      <th></th>\n",
       "      <th></th>\n",
       "      <th></th>\n",
       "      <th></th>\n",
       "      <th></th>\n",
       "      <th></th>\n",
       "      <th></th>\n",
       "      <th></th>\n",
       "      <th></th>\n",
       "      <th></th>\n",
       "      <th></th>\n",
       "      <th></th>\n",
       "    </tr>\n",
       "  </thead>\n",
       "  <tbody>\n",
       "    <tr>\n",
       "      <th>2020-05-01 04:00:00+00:00</th>\n",
       "      <td>116.97</td>\n",
       "      <td>117.0998</td>\n",
       "      <td>116.6775</td>\n",
       "      <td>116.87</td>\n",
       "      <td>6099551</td>\n",
       "      <td>24394</td>\n",
       "      <td>116.846121</td>\n",
       "      <td>NaN</td>\n",
       "      <td>285.31</td>\n",
       "      <td>290.6572</td>\n",
       "      <td>281.5200</td>\n",
       "      <td>282.83</td>\n",
       "      <td>125180028</td>\n",
       "      <td>639987</td>\n",
       "      <td>284.092832</td>\n",
       "      <td>NaN</td>\n",
       "    </tr>\n",
       "    <tr>\n",
       "      <th>2020-05-04 04:00:00+00:00</th>\n",
       "      <td>116.89</td>\n",
       "      <td>117.0900</td>\n",
       "      <td>116.8700</td>\n",
       "      <td>116.97</td>\n",
       "      <td>3684081</td>\n",
       "      <td>15545</td>\n",
       "      <td>116.960599</td>\n",
       "      <td>0.000856</td>\n",
       "      <td>280.73</td>\n",
       "      <td>283.9000</td>\n",
       "      <td>279.1300</td>\n",
       "      <td>283.59</td>\n",
       "      <td>80882213</td>\n",
       "      <td>460681</td>\n",
       "      <td>281.765334</td>\n",
       "      <td>0.002687</td>\n",
       "    </tr>\n",
       "    <tr>\n",
       "      <th>2020-05-05 04:00:00+00:00</th>\n",
       "      <td>116.96</td>\n",
       "      <td>116.9700</td>\n",
       "      <td>116.8100</td>\n",
       "      <td>116.88</td>\n",
       "      <td>4611519</td>\n",
       "      <td>15146</td>\n",
       "      <td>116.879640</td>\n",
       "      <td>-0.000769</td>\n",
       "      <td>286.64</td>\n",
       "      <td>289.2500</td>\n",
       "      <td>283.7134</td>\n",
       "      <td>286.15</td>\n",
       "      <td>79569939</td>\n",
       "      <td>459764</td>\n",
       "      <td>287.400201</td>\n",
       "      <td>0.009027</td>\n",
       "    </tr>\n",
       "    <tr>\n",
       "      <th>2020-05-06 04:00:00+00:00</th>\n",
       "      <td>116.44</td>\n",
       "      <td>116.7100</td>\n",
       "      <td>116.3000</td>\n",
       "      <td>116.41</td>\n",
       "      <td>6394949</td>\n",
       "      <td>20233</td>\n",
       "      <td>116.426742</td>\n",
       "      <td>-0.004021</td>\n",
       "      <td>288.05</td>\n",
       "      <td>288.4600</td>\n",
       "      <td>283.7800</td>\n",
       "      <td>284.34</td>\n",
       "      <td>73632628</td>\n",
       "      <td>436219</td>\n",
       "      <td>286.096273</td>\n",
       "      <td>-0.006325</td>\n",
       "    </tr>\n",
       "    <tr>\n",
       "      <th>2020-05-07 04:00:00+00:00</th>\n",
       "      <td>116.61</td>\n",
       "      <td>116.7700</td>\n",
       "      <td>116.4200</td>\n",
       "      <td>116.77</td>\n",
       "      <td>3786651</td>\n",
       "      <td>15963</td>\n",
       "      <td>116.641826</td>\n",
       "      <td>0.003093</td>\n",
       "      <td>287.75</td>\n",
       "      <td>289.7800</td>\n",
       "      <td>287.1300</td>\n",
       "      <td>287.70</td>\n",
       "      <td>75250412</td>\n",
       "      <td>422688</td>\n",
       "      <td>287.989956</td>\n",
       "      <td>0.011817</td>\n",
       "    </tr>\n",
       "  </tbody>\n",
       "</table>\n",
       "</div>"
      ],
      "text/plain": [
       "                              AGG                                       \\\n",
       "                             open      high       low   close   volume   \n",
       "timestamp                                                                \n",
       "2020-05-01 04:00:00+00:00  116.97  117.0998  116.6775  116.87  6099551   \n",
       "2020-05-04 04:00:00+00:00  116.89  117.0900  116.8700  116.97  3684081   \n",
       "2020-05-05 04:00:00+00:00  116.96  116.9700  116.8100  116.88  4611519   \n",
       "2020-05-06 04:00:00+00:00  116.44  116.7100  116.3000  116.41  6394949   \n",
       "2020-05-07 04:00:00+00:00  116.61  116.7700  116.4200  116.77  3786651   \n",
       "\n",
       "                                                                   SPY  \\\n",
       "                          trade_count        vwap daily_return    open   \n",
       "timestamp                                                                \n",
       "2020-05-01 04:00:00+00:00       24394  116.846121          NaN  285.31   \n",
       "2020-05-04 04:00:00+00:00       15545  116.960599     0.000856  280.73   \n",
       "2020-05-05 04:00:00+00:00       15146  116.879640    -0.000769  286.64   \n",
       "2020-05-06 04:00:00+00:00       20233  116.426742    -0.004021  288.05   \n",
       "2020-05-07 04:00:00+00:00       15963  116.641826     0.003093  287.75   \n",
       "\n",
       "                                                                              \\\n",
       "                               high       low   close     volume trade_count   \n",
       "timestamp                                                                      \n",
       "2020-05-01 04:00:00+00:00  290.6572  281.5200  282.83  125180028      639987   \n",
       "2020-05-04 04:00:00+00:00  283.9000  279.1300  283.59   80882213      460681   \n",
       "2020-05-05 04:00:00+00:00  289.2500  283.7134  286.15   79569939      459764   \n",
       "2020-05-06 04:00:00+00:00  288.4600  283.7800  284.34   73632628      436219   \n",
       "2020-05-07 04:00:00+00:00  289.7800  287.1300  287.70   75250412      422688   \n",
       "\n",
       "                                                    \n",
       "                                 vwap daily_return  \n",
       "timestamp                                           \n",
       "2020-05-01 04:00:00+00:00  284.092832          NaN  \n",
       "2020-05-04 04:00:00+00:00  281.765334     0.002687  \n",
       "2020-05-05 04:00:00+00:00  287.400201     0.009027  \n",
       "2020-05-06 04:00:00+00:00  286.096273    -0.006325  \n",
       "2020-05-07 04:00:00+00:00  287.989956     0.011817  "
      ]
     },
     "execution_count": 38,
     "metadata": {},
     "output_type": "execute_result"
    }
   ],
   "source": [
    "# Configure a Monte Carlo simulation to forecast 10 years cumulative returns\n",
    "# The weights should be split 20% to AGG and 80% to SPY.\n",
    "# Run 500 samples.\n",
    "MC = MCSimulation(\n",
    "    portfolio_data = closing_df,\n",
    "    weights = [.20,.80],\n",
    "    num_simulation = 500,\n",
    "    num_trading_days = 252*10)\n",
    "\n",
    "# Review the simulation input data\n",
    "MC.portfolio_data.head()\n",
    "\n"
   ]
  },
  {
   "cell_type": "code",
   "execution_count": 39,
   "metadata": {},
   "outputs": [
    {
     "name": "stdout",
     "output_type": "stream",
     "text": [
      "Running Monte Carlo simulation number 0.\n",
      "Running Monte Carlo simulation number 10.\n",
      "Running Monte Carlo simulation number 20.\n",
      "Running Monte Carlo simulation number 30.\n",
      "Running Monte Carlo simulation number 40.\n",
      "Running Monte Carlo simulation number 50.\n",
      "Running Monte Carlo simulation number 60.\n",
      "Running Monte Carlo simulation number 70.\n",
      "Running Monte Carlo simulation number 80.\n",
      "Running Monte Carlo simulation number 90.\n",
      "Running Monte Carlo simulation number 100.\n"
     ]
    },
    {
     "name": "stderr",
     "output_type": "stream",
     "text": [
      "/Users/melissadiquisto/Bootcamp/FinTech_Workspace/Module_5/Starter_Code_4/MCForecastTools.py:117: PerformanceWarning: DataFrame is highly fragmented.  This is usually the result of calling `frame.insert` many times, which has poor performance.  Consider joining all columns at once using pd.concat(axis=1) instead.  To get a de-fragmented frame, use `newframe = frame.copy()`\n",
      "  portfolio_cumulative_returns[n] = (1 + sim_df.fillna(0)).cumprod()\n"
     ]
    },
    {
     "name": "stdout",
     "output_type": "stream",
     "text": [
      "Running Monte Carlo simulation number 110.\n",
      "Running Monte Carlo simulation number 120.\n",
      "Running Monte Carlo simulation number 130.\n",
      "Running Monte Carlo simulation number 140.\n",
      "Running Monte Carlo simulation number 150.\n",
      "Running Monte Carlo simulation number 160.\n",
      "Running Monte Carlo simulation number 170.\n",
      "Running Monte Carlo simulation number 180.\n",
      "Running Monte Carlo simulation number 190.\n",
      "Running Monte Carlo simulation number 200.\n",
      "Running Monte Carlo simulation number 210.\n",
      "Running Monte Carlo simulation number 220.\n",
      "Running Monte Carlo simulation number 230.\n",
      "Running Monte Carlo simulation number 240.\n",
      "Running Monte Carlo simulation number 250.\n",
      "Running Monte Carlo simulation number 260.\n",
      "Running Monte Carlo simulation number 270.\n",
      "Running Monte Carlo simulation number 280.\n",
      "Running Monte Carlo simulation number 290.\n",
      "Running Monte Carlo simulation number 300.\n",
      "Running Monte Carlo simulation number 310.\n",
      "Running Monte Carlo simulation number 320.\n",
      "Running Monte Carlo simulation number 330.\n",
      "Running Monte Carlo simulation number 340.\n",
      "Running Monte Carlo simulation number 350.\n",
      "Running Monte Carlo simulation number 360.\n",
      "Running Monte Carlo simulation number 370.\n",
      "Running Monte Carlo simulation number 380.\n",
      "Running Monte Carlo simulation number 390.\n",
      "Running Monte Carlo simulation number 400.\n",
      "Running Monte Carlo simulation number 410.\n",
      "Running Monte Carlo simulation number 420.\n",
      "Running Monte Carlo simulation number 430.\n",
      "Running Monte Carlo simulation number 440.\n",
      "Running Monte Carlo simulation number 450.\n",
      "Running Monte Carlo simulation number 460.\n",
      "Running Monte Carlo simulation number 470.\n",
      "Running Monte Carlo simulation number 480.\n",
      "Running Monte Carlo simulation number 490.\n"
     ]
    },
    {
     "data": {
      "text/html": [
       "<div>\n",
       "<style scoped>\n",
       "    .dataframe tbody tr th:only-of-type {\n",
       "        vertical-align: middle;\n",
       "    }\n",
       "\n",
       "    .dataframe tbody tr th {\n",
       "        vertical-align: top;\n",
       "    }\n",
       "\n",
       "    .dataframe thead th {\n",
       "        text-align: right;\n",
       "    }\n",
       "</style>\n",
       "<table border=\"1\" class=\"dataframe\">\n",
       "  <thead>\n",
       "    <tr style=\"text-align: right;\">\n",
       "      <th></th>\n",
       "      <th>0</th>\n",
       "      <th>1</th>\n",
       "      <th>2</th>\n",
       "      <th>3</th>\n",
       "      <th>4</th>\n",
       "      <th>5</th>\n",
       "      <th>6</th>\n",
       "      <th>7</th>\n",
       "      <th>8</th>\n",
       "      <th>9</th>\n",
       "      <th>...</th>\n",
       "      <th>490</th>\n",
       "      <th>491</th>\n",
       "      <th>492</th>\n",
       "      <th>493</th>\n",
       "      <th>494</th>\n",
       "      <th>495</th>\n",
       "      <th>496</th>\n",
       "      <th>497</th>\n",
       "      <th>498</th>\n",
       "      <th>499</th>\n",
       "    </tr>\n",
       "  </thead>\n",
       "  <tbody>\n",
       "    <tr>\n",
       "      <th>0</th>\n",
       "      <td>1.000000</td>\n",
       "      <td>1.000000</td>\n",
       "      <td>1.000000</td>\n",
       "      <td>1.000000</td>\n",
       "      <td>1.000000</td>\n",
       "      <td>1.000000</td>\n",
       "      <td>1.000000</td>\n",
       "      <td>1.000000</td>\n",
       "      <td>1.000000</td>\n",
       "      <td>1.000000</td>\n",
       "      <td>...</td>\n",
       "      <td>1.000000</td>\n",
       "      <td>1.000000</td>\n",
       "      <td>1.000000</td>\n",
       "      <td>1.000000</td>\n",
       "      <td>1.000000</td>\n",
       "      <td>1.000000</td>\n",
       "      <td>1.000000</td>\n",
       "      <td>1.000000</td>\n",
       "      <td>1.000000</td>\n",
       "      <td>1.000000</td>\n",
       "    </tr>\n",
       "    <tr>\n",
       "      <th>1</th>\n",
       "      <td>1.022056</td>\n",
       "      <td>1.012947</td>\n",
       "      <td>1.018608</td>\n",
       "      <td>1.006277</td>\n",
       "      <td>0.999507</td>\n",
       "      <td>1.003013</td>\n",
       "      <td>0.997301</td>\n",
       "      <td>1.006181</td>\n",
       "      <td>1.005802</td>\n",
       "      <td>0.999861</td>\n",
       "      <td>...</td>\n",
       "      <td>0.997406</td>\n",
       "      <td>0.988063</td>\n",
       "      <td>1.002200</td>\n",
       "      <td>0.996442</td>\n",
       "      <td>0.996059</td>\n",
       "      <td>0.992798</td>\n",
       "      <td>0.992574</td>\n",
       "      <td>0.991256</td>\n",
       "      <td>0.999153</td>\n",
       "      <td>0.994208</td>\n",
       "    </tr>\n",
       "    <tr>\n",
       "      <th>2</th>\n",
       "      <td>1.019435</td>\n",
       "      <td>1.000340</td>\n",
       "      <td>1.024422</td>\n",
       "      <td>1.013292</td>\n",
       "      <td>1.007543</td>\n",
       "      <td>1.015409</td>\n",
       "      <td>1.016090</td>\n",
       "      <td>1.019432</td>\n",
       "      <td>1.014674</td>\n",
       "      <td>0.984818</td>\n",
       "      <td>...</td>\n",
       "      <td>0.982411</td>\n",
       "      <td>0.983934</td>\n",
       "      <td>1.005741</td>\n",
       "      <td>1.002774</td>\n",
       "      <td>0.995237</td>\n",
       "      <td>0.988153</td>\n",
       "      <td>0.992474</td>\n",
       "      <td>0.989447</td>\n",
       "      <td>1.002916</td>\n",
       "      <td>1.000939</td>\n",
       "    </tr>\n",
       "    <tr>\n",
       "      <th>3</th>\n",
       "      <td>1.038213</td>\n",
       "      <td>0.987017</td>\n",
       "      <td>1.018368</td>\n",
       "      <td>1.006726</td>\n",
       "      <td>1.006155</td>\n",
       "      <td>1.012738</td>\n",
       "      <td>1.012139</td>\n",
       "      <td>1.008259</td>\n",
       "      <td>1.025617</td>\n",
       "      <td>1.002469</td>\n",
       "      <td>...</td>\n",
       "      <td>0.994169</td>\n",
       "      <td>0.972256</td>\n",
       "      <td>1.003041</td>\n",
       "      <td>0.997753</td>\n",
       "      <td>1.000588</td>\n",
       "      <td>0.980377</td>\n",
       "      <td>0.999769</td>\n",
       "      <td>0.992087</td>\n",
       "      <td>1.009474</td>\n",
       "      <td>1.016025</td>\n",
       "    </tr>\n",
       "    <tr>\n",
       "      <th>4</th>\n",
       "      <td>1.054248</td>\n",
       "      <td>0.983474</td>\n",
       "      <td>1.033949</td>\n",
       "      <td>1.000251</td>\n",
       "      <td>1.018633</td>\n",
       "      <td>1.022873</td>\n",
       "      <td>1.005636</td>\n",
       "      <td>1.013341</td>\n",
       "      <td>1.014318</td>\n",
       "      <td>1.001450</td>\n",
       "      <td>...</td>\n",
       "      <td>0.995404</td>\n",
       "      <td>0.977847</td>\n",
       "      <td>1.002242</td>\n",
       "      <td>0.992761</td>\n",
       "      <td>0.986671</td>\n",
       "      <td>0.986791</td>\n",
       "      <td>1.007592</td>\n",
       "      <td>0.983302</td>\n",
       "      <td>1.005504</td>\n",
       "      <td>1.020378</td>\n",
       "    </tr>\n",
       "    <tr>\n",
       "      <th>...</th>\n",
       "      <td>...</td>\n",
       "      <td>...</td>\n",
       "      <td>...</td>\n",
       "      <td>...</td>\n",
       "      <td>...</td>\n",
       "      <td>...</td>\n",
       "      <td>...</td>\n",
       "      <td>...</td>\n",
       "      <td>...</td>\n",
       "      <td>...</td>\n",
       "      <td>...</td>\n",
       "      <td>...</td>\n",
       "      <td>...</td>\n",
       "      <td>...</td>\n",
       "      <td>...</td>\n",
       "      <td>...</td>\n",
       "      <td>...</td>\n",
       "      <td>...</td>\n",
       "      <td>...</td>\n",
       "      <td>...</td>\n",
       "      <td>...</td>\n",
       "    </tr>\n",
       "    <tr>\n",
       "      <th>2516</th>\n",
       "      <td>1.850666</td>\n",
       "      <td>1.922802</td>\n",
       "      <td>2.229159</td>\n",
       "      <td>2.756347</td>\n",
       "      <td>1.525976</td>\n",
       "      <td>1.289439</td>\n",
       "      <td>1.323576</td>\n",
       "      <td>4.287433</td>\n",
       "      <td>2.778013</td>\n",
       "      <td>3.665237</td>\n",
       "      <td>...</td>\n",
       "      <td>2.095303</td>\n",
       "      <td>4.402346</td>\n",
       "      <td>1.293522</td>\n",
       "      <td>2.623607</td>\n",
       "      <td>1.764329</td>\n",
       "      <td>2.848642</td>\n",
       "      <td>0.829214</td>\n",
       "      <td>2.535349</td>\n",
       "      <td>1.285834</td>\n",
       "      <td>2.062853</td>\n",
       "    </tr>\n",
       "    <tr>\n",
       "      <th>2517</th>\n",
       "      <td>1.840281</td>\n",
       "      <td>1.928032</td>\n",
       "      <td>2.234497</td>\n",
       "      <td>2.714208</td>\n",
       "      <td>1.506197</td>\n",
       "      <td>1.303570</td>\n",
       "      <td>1.317970</td>\n",
       "      <td>4.275202</td>\n",
       "      <td>2.767123</td>\n",
       "      <td>3.676205</td>\n",
       "      <td>...</td>\n",
       "      <td>2.103713</td>\n",
       "      <td>4.410957</td>\n",
       "      <td>1.301966</td>\n",
       "      <td>2.622813</td>\n",
       "      <td>1.767367</td>\n",
       "      <td>2.879750</td>\n",
       "      <td>0.824767</td>\n",
       "      <td>2.536408</td>\n",
       "      <td>1.302807</td>\n",
       "      <td>2.061887</td>\n",
       "    </tr>\n",
       "    <tr>\n",
       "      <th>2518</th>\n",
       "      <td>1.865625</td>\n",
       "      <td>1.912980</td>\n",
       "      <td>2.269428</td>\n",
       "      <td>2.690051</td>\n",
       "      <td>1.501464</td>\n",
       "      <td>1.324901</td>\n",
       "      <td>1.319707</td>\n",
       "      <td>4.338572</td>\n",
       "      <td>2.748091</td>\n",
       "      <td>3.684475</td>\n",
       "      <td>...</td>\n",
       "      <td>2.079948</td>\n",
       "      <td>4.356847</td>\n",
       "      <td>1.306462</td>\n",
       "      <td>2.624913</td>\n",
       "      <td>1.773691</td>\n",
       "      <td>2.862822</td>\n",
       "      <td>0.818171</td>\n",
       "      <td>2.555975</td>\n",
       "      <td>1.316367</td>\n",
       "      <td>2.074677</td>\n",
       "    </tr>\n",
       "    <tr>\n",
       "      <th>2519</th>\n",
       "      <td>1.887608</td>\n",
       "      <td>1.925907</td>\n",
       "      <td>2.261395</td>\n",
       "      <td>2.696015</td>\n",
       "      <td>1.510821</td>\n",
       "      <td>1.340240</td>\n",
       "      <td>1.298595</td>\n",
       "      <td>4.369773</td>\n",
       "      <td>2.772870</td>\n",
       "      <td>3.643548</td>\n",
       "      <td>...</td>\n",
       "      <td>2.067574</td>\n",
       "      <td>4.377912</td>\n",
       "      <td>1.320743</td>\n",
       "      <td>2.633828</td>\n",
       "      <td>1.742471</td>\n",
       "      <td>2.861875</td>\n",
       "      <td>0.822517</td>\n",
       "      <td>2.564273</td>\n",
       "      <td>1.302792</td>\n",
       "      <td>2.130219</td>\n",
       "    </tr>\n",
       "    <tr>\n",
       "      <th>2520</th>\n",
       "      <td>1.904187</td>\n",
       "      <td>1.895620</td>\n",
       "      <td>2.243656</td>\n",
       "      <td>2.693915</td>\n",
       "      <td>1.499835</td>\n",
       "      <td>1.354001</td>\n",
       "      <td>1.293546</td>\n",
       "      <td>4.441463</td>\n",
       "      <td>2.778430</td>\n",
       "      <td>3.638738</td>\n",
       "      <td>...</td>\n",
       "      <td>2.053674</td>\n",
       "      <td>4.440568</td>\n",
       "      <td>1.319449</td>\n",
       "      <td>2.619588</td>\n",
       "      <td>1.747044</td>\n",
       "      <td>2.863800</td>\n",
       "      <td>0.815576</td>\n",
       "      <td>2.569790</td>\n",
       "      <td>1.293005</td>\n",
       "      <td>2.150566</td>\n",
       "    </tr>\n",
       "  </tbody>\n",
       "</table>\n",
       "<p>2521 rows × 500 columns</p>\n",
       "</div>"
      ],
      "text/plain": [
       "           0         1         2         3         4         5         6    \\\n",
       "0     1.000000  1.000000  1.000000  1.000000  1.000000  1.000000  1.000000   \n",
       "1     1.022056  1.012947  1.018608  1.006277  0.999507  1.003013  0.997301   \n",
       "2     1.019435  1.000340  1.024422  1.013292  1.007543  1.015409  1.016090   \n",
       "3     1.038213  0.987017  1.018368  1.006726  1.006155  1.012738  1.012139   \n",
       "4     1.054248  0.983474  1.033949  1.000251  1.018633  1.022873  1.005636   \n",
       "...        ...       ...       ...       ...       ...       ...       ...   \n",
       "2516  1.850666  1.922802  2.229159  2.756347  1.525976  1.289439  1.323576   \n",
       "2517  1.840281  1.928032  2.234497  2.714208  1.506197  1.303570  1.317970   \n",
       "2518  1.865625  1.912980  2.269428  2.690051  1.501464  1.324901  1.319707   \n",
       "2519  1.887608  1.925907  2.261395  2.696015  1.510821  1.340240  1.298595   \n",
       "2520  1.904187  1.895620  2.243656  2.693915  1.499835  1.354001  1.293546   \n",
       "\n",
       "           7         8         9    ...       490       491       492  \\\n",
       "0     1.000000  1.000000  1.000000  ...  1.000000  1.000000  1.000000   \n",
       "1     1.006181  1.005802  0.999861  ...  0.997406  0.988063  1.002200   \n",
       "2     1.019432  1.014674  0.984818  ...  0.982411  0.983934  1.005741   \n",
       "3     1.008259  1.025617  1.002469  ...  0.994169  0.972256  1.003041   \n",
       "4     1.013341  1.014318  1.001450  ...  0.995404  0.977847  1.002242   \n",
       "...        ...       ...       ...  ...       ...       ...       ...   \n",
       "2516  4.287433  2.778013  3.665237  ...  2.095303  4.402346  1.293522   \n",
       "2517  4.275202  2.767123  3.676205  ...  2.103713  4.410957  1.301966   \n",
       "2518  4.338572  2.748091  3.684475  ...  2.079948  4.356847  1.306462   \n",
       "2519  4.369773  2.772870  3.643548  ...  2.067574  4.377912  1.320743   \n",
       "2520  4.441463  2.778430  3.638738  ...  2.053674  4.440568  1.319449   \n",
       "\n",
       "           493       494       495       496       497       498       499  \n",
       "0     1.000000  1.000000  1.000000  1.000000  1.000000  1.000000  1.000000  \n",
       "1     0.996442  0.996059  0.992798  0.992574  0.991256  0.999153  0.994208  \n",
       "2     1.002774  0.995237  0.988153  0.992474  0.989447  1.002916  1.000939  \n",
       "3     0.997753  1.000588  0.980377  0.999769  0.992087  1.009474  1.016025  \n",
       "4     0.992761  0.986671  0.986791  1.007592  0.983302  1.005504  1.020378  \n",
       "...        ...       ...       ...       ...       ...       ...       ...  \n",
       "2516  2.623607  1.764329  2.848642  0.829214  2.535349  1.285834  2.062853  \n",
       "2517  2.622813  1.767367  2.879750  0.824767  2.536408  1.302807  2.061887  \n",
       "2518  2.624913  1.773691  2.862822  0.818171  2.555975  1.316367  2.074677  \n",
       "2519  2.633828  1.742471  2.861875  0.822517  2.564273  1.302792  2.130219  \n",
       "2520  2.619588  1.747044  2.863800  0.815576  2.569790  1.293005  2.150566  \n",
       "\n",
       "[2521 rows x 500 columns]"
      ]
     },
     "execution_count": 39,
     "metadata": {},
     "output_type": "execute_result"
    }
   ],
   "source": [
    "# Run the Monte Carlo simulation to forecast 10 years cumulative returns\n",
    "MC.calc_cumulative_return()\n"
   ]
  },
  {
   "cell_type": "code",
   "execution_count": 40,
   "metadata": {},
   "outputs": [
    {
     "data": {
      "image/png": "[encoded data removed]",
      "text/plain": [
       "<Figure size 640x480 with 1 Axes>"
      ]
     },
     "metadata": {},
     "output_type": "display_data"
    }
   ],
   "source": [
    "# Visualize the 10-year Monte Carlo simulation by creating an\n",
    "# overlay line plot\n",
    "line_plot = MC.plot_simulation()\n"
   ]
  },
  {
   "cell_type": "code",
   "execution_count": 41,
   "metadata": {},
   "outputs": [
    {
     "data": {
      "image/png": "[encoded data removed]",
      "text/plain": [
       "<Figure size 640x480 with 1 Axes>"
      ]
     },
     "metadata": {},
     "output_type": "display_data"
    }
   ],
   "source": [
    "# Visualize the probability distribution of the 10-year Monte Carlo simulation \n",
    "# by plotting a histogram\n",
    "his_plot = MC.plot_distribution()\n"
   ]
  },
  {
   "cell_type": "code",
   "execution_count": 42,
   "metadata": {},
   "outputs": [
    {
     "data": {
      "text/plain": [
       "count           500.000000\n",
       "mean              2.929414\n",
       "std               1.580704\n",
       "min               0.543924\n",
       "25%               1.879957\n",
       "50%               2.582740\n",
       "75%               3.533088\n",
       "max              11.900575\n",
       "95% CI Lower      1.031712\n",
       "95% CI Upper      6.713135\n",
       "Name: 2520, dtype: float64"
      ]
     },
     "execution_count": 42,
     "metadata": {},
     "output_type": "execute_result"
    }
   ],
   "source": [
    "# Generate summary statistics from the 10-year Monte Carlo simulation results\n",
    "# Save the results as a variable\n",
    "summary_stats = MC.summarize_cumulative_return()\n",
    "\n",
    "\n",
    "# Review the 10-year Monte Carlo summary statistics\n",
    "summary_stats"
   ]
  },
  {
   "cell_type": "markdown",
   "metadata": {},
   "source": [
    "### Answer the following questions:"
   ]
  },
  {
   "cell_type": "markdown",
   "metadata": {},
   "source": [
    "#### Question: Using the current value of only the stock and bond portion of the member's portfolio and the summary statistics that you generated from the new Monte Carlo simulation, what are the lower and upper bounds for the expected value of the portfolio (with the new weights) with a 95% confidence interval?"
   ]
  },
  {
   "cell_type": "code",
   "execution_count": 43,
   "metadata": {},
   "outputs": [
    {
     "data": {
      "text/plain": [
       "65343.5"
      ]
     },
     "execution_count": 43,
     "metadata": {},
     "output_type": "execute_result"
    }
   ],
   "source": [
    "# Print the current balance of the stock and bond portion of the members portfolio\n",
    "total_stocks_bonds\n"
   ]
  },
  {
   "cell_type": "code",
   "execution_count": 44,
   "metadata": {},
   "outputs": [
    {
     "name": "stdout",
     "output_type": "stream",
     "text": [
      "upper: $206239.57962769395 and lower: $18242.27645156534\n"
     ]
    }
   ],
   "source": [
    "# Use the lower and upper `95%` confidence intervals to calculate the range of the possible outcomes for the current stock/bond portfolio\n",
    "ci_lower_ten_cumulative_return = summary_stats[8] * 10000\n",
    "ci_upper_ten_cumulative_return = summary_stats[9] * 10000\n",
    "\n",
    "# Print the result of your calculations\n",
    "print(f\"upper: ${ci_upper_thirty_cumulative_return} and lower: ${ci_lower_thirty_cumulative_return}\")"
   ]
  },
  {
   "cell_type": "markdown",
   "metadata": {},
   "source": [
    "#### Question: Will weighting the portfolio more heavily to stocks allow the credit union members to retire after only 10 years?"
   ]
  },
  {
   "cell_type": "raw",
   "metadata": {},
   "source": [
    "**Answer** no, not from the data displayed"
   ]
  }
 ],
 "metadata": {
  "kernelspec": {
   "display_name": "Python 3 (ipykernel)",
   "language": "python",
   "name": "python3"
  },
  "language_info": {
   "codemirror_mode": {
    "name": "ipython",
    "version": 3
   },
   "file_extension": ".py",
   "mimetype": "text/x-python",
   "name": "python",
   "nbconvert_exporter": "python",
   "pygments_lexer": "ipython3",
   "version": "3.7.13"
  }
 },
 "nbformat": 4,
 "nbformat_minor": 4
}
